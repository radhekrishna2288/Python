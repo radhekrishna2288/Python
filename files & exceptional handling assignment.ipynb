{
 "cells": [
  {
   "cell_type": "code",
   "execution_count": null,
   "id": "19309399-48e5-4a8c-b8d4-a600817487fb",
   "metadata": {},
   "outputs": [],
   "source": [
    "'''\n",
    "Q1. What is the difference between interpreted and compiled languages?\n",
    "\n",
    "Interpreted languages are executed line-by-line by an interpreter at runtime, translating source code into machine \n",
    "code on the fly. They are generally more portable because the same source code can be run on any platform with the \n",
    "appropriate interpreter. However, they tend to be slower due to the overhead of runtime translation. Errors are \n",
    "detected at runtime, which means the program may run until it encounters an error. Examples include Python and \n",
    "JavaScript.\n",
    "\n",
    "Compiled languages are translated into machine code by a compiler before execution, creating an executable file. \n",
    "This machine code is specific to the target platform, making compiled languages less portable. However, they tend \n",
    "to be faster because the machine code is executed directly by the hardware without the need for runtime translation. \n",
    "Errors are detected at compile-time, which means the program will not run until all errors are fixed. Examples include \n",
    "C and C++.\n",
    "\n",
    "\n",
    "Q2. What is exception handling in Python?\n",
    "\n",
    "Exception handling in Python allows you to manage runtime errors gracefully using try, except, else, and finally blocks. \n",
    "This mechanism helps prevent program crashes and ensures proper resource management. The try block contains code that \n",
    "might raise an exception, the except block handles the exception if it occurs, the else block executes code if no \n",
    "exceptions occur, and the finally block executes code regardless of whether an exception occurs.\n",
    "\n",
    "\n",
    "Q3. What is the purpose of the finally block in exception handling?\n",
    "\n",
    "The finally block ensures that code runs regardless of whether an exception occurs. It is used for cleanup actions like \n",
    "closing files or releasing resources. This guarantees that important cleanup tasks are always performed, even if an error \n",
    "occurs. The finally block is particularly useful for resource management, ensuring that resources are properly released \n",
    "even if an error occurs.\n",
    "\n",
    "\n",
    "Q4. What is logging in Python?\n",
    "\n",
    "Logging is a way to track events that happen when software runs. The logging module provides a flexible framework for \n",
    "emitting log messages from Python programs. It helps in debugging, monitoring, and understanding the flow of a program by \n",
    "recording significant events. Logging can be configured to output messages to different destinations, such as the console \n",
    "or a file, and at different levels of severity, such as DEBUG, INFO, WARNING, ERROR, and CRITICAL.\n",
    "\n",
    "\n",
    "Q5. What is the significance of the __del__ method in Python?\n",
    "\n",
    "The __del__ method is called when an object is about to be destroyed. It is used to clean up resources like closing files \n",
    "or network connections. This method ensures that any necessary finalization is performed before the object is removed from \n",
    "memory. The __del__ method is also known as a destructor and is useful for managing resources that need to be explicitly \n",
    "released when an object is no longer needed.\n",
    "\n",
    "\n",
    "Q6. What is the difference between import and from import in Python?\n",
    "\n",
    "import: Imports the entire module, making all its functions and classes available. You need to use the module name to access \n",
    "its functions and classes.\n",
    "\n",
    "from import: Imports specific attributes or functions from a module, allowing direct access without module qualification. \n",
    "This can make the code cleaner and more readable.\n",
    "\n",
    "\n",
    "Q7. How can you handle multiple exceptions in Python?\n",
    "\n",
    "Use multiple except blocks or a single except block with a tuple of exceptions. This allows handling different types of \n",
    "exceptions separately or together, providing more control over error handling. Multiple except blocks can be used to handle \n",
    "different exceptions in different ways, while a single except block with a tuple can handle multiple exceptions in the same way.\n",
    "\n",
    "\n",
    "Q8. What is the purpose of the with statement when handling files in Python?\n",
    "\n",
    "The with statement ensures proper acquisition and release of resources. It is commonly used with file operations to ensure files \n",
    "are properly closed, even if an error occurs. This helps prevent resource leaks and ensures that files are always properly managed.\n",
    "The with statement simplifies resource management by automatically handling the setup and teardown of resources.\n",
    "\n",
    "\n",
    "Q9. What is the difference between multithreading and multiprocessing?\n",
    "\n",
    "Multithreading: Multiple threads within the same process, sharing memory space. It is useful for I/O-bound tasks, such as reading \n",
    "from a file or making network requests, where the program spends a lot of time waiting for external resources.\n",
    "\n",
    "Multiprocessing: Multiple processes with separate memory space. It is useful for CPU-bound tasks, such as complex calculations, \n",
    "where the program spends a lot of time performing computations. Multiprocessing can take advantage of multiple CPU cores to \n",
    "improve performance.\n",
    "\n",
    "\n",
    "Q10. What are the advantages of using logging in a program?\n",
    "\n",
    "Logging helps in debugging and monitoring the application by providing a record of runtime events. It allows developers to track \n",
    "the flow of the program and identify issues, making it easier to maintain and troubleshoot the application. Logging can also be \n",
    "used to monitor the application's performance and behavior in production, helping to identify and resolve issues before they \n",
    "become critical.\n",
    "\n",
    "\n",
    "Q11. What is memory management in Python?\n",
    "\n",
    "Memory management in Python involves the allocation and deallocation of memory to ensure efficient use of resources and prevent \n",
    "memory leaks. Python uses automatic memory management, including garbage collection, to handle memory allocation and deallocation. \n",
    "The garbage collector automatically identifies and frees unused objects, helping to manage memory efficiently and prevent memory \n",
    "leaks.\n",
    "\n",
    "\n",
    "Q12. What are the basic steps involved in exception handling in Python?\n",
    "\n",
    "Identify risky code, handle exceptions, execute alternative code, and clean up using try, except, else, and finally blocks. This \n",
    "structured approach ensures that errors are managed gracefully and resources are properly released. The try block contains code \n",
    "that might raise an exception, the except block handles the exception if it occurs, the else block executes code if no exceptions \n",
    "occur, and the finally block executes code regardless of whether an exception occurs.\n",
    "\n",
    "\n",
    "Q13. Why is memory management important in Python?\n",
    "\n",
    "Memory management is crucial to prevent memory leaks and ensure efficient use of resources, which helps maintain application \n",
    "performance. Proper memory management ensures that the application runs smoothly without consuming excessive memory. By managing \n",
    "memory efficiently, developers can prevent memory-related issues, such as crashes and slow performance, and ensure that the \n",
    "application remains stable and responsive.\n",
    "\n",
    "\n",
    "Q14. What is the role of try and except in exception handling?\n",
    "\n",
    "try: Wraps code that might raise an exception.\n",
    "except: Handles the exception if it occurs. This structure allows for graceful error handling and ensures that the program can \n",
    "continue running or terminate gracefully. The try block contains code that might raise an exception, and the except block handles \n",
    "the exception if it occurs, allowing the program to recover from errors and continue running.\n",
    "\n",
    "\n",
    "Q15. How does Python's garbage collection system work?\n",
    "\n",
    "Python's garbage collection system automatically deallocates memory by identifying and freeing unused objects using reference \n",
    "counting and cyclic garbage collector. This helps manage memory efficiently and prevents memory leaks. The garbage collector tracks \n",
    "the number of references to each object and frees objects that are no longer referenced. It also detects and collects cyclic \n",
    "references, which are groups of objects that reference each other but are not reachable from the rest of the program.\n",
    "\n",
    "\n",
    "Q16. What is the purpose of the else block in exception handling?\n",
    "\n",
    "The else block executes code if no exceptions occur in the try block, allowing for clean separation of normal and exceptional \n",
    "code paths. This helps in organizing code and making it more readable and maintainable. The else block is useful for code that \n",
    "should only run if no exceptions occur, providing a clear distinction between normal and exceptional code paths.\n",
    "\n",
    "\n",
    "Q17. What are the common logging levels in Python?\n",
    "\n",
    "The common logging levels are DEBUG, INFO, WARNING, ERROR, and CRITICAL, each indicating the severity of the log messages. These \n",
    "levels help categorize log messages and control the output based on the importance of the events. DEBUG is used for detailed \n",
    "diagnostic information, INFO for general information, WARNING for potential issues, ERROR for errors that prevent the program \n",
    "from continuing, and CRITICAL for severe errors that may cause the program to terminate.\n",
    "\n",
    "\n",
    "Q18. What is the difference between os.fork() and multiprocessing in Python?\n",
    "\n",
    "os.fork(): Creates a new process by duplicating the current process. It is available on Unix-like systems and is useful for \n",
    "creating child processes that run concurrently with the parent process. However, it can be complex to manage and is not available \n",
    "on all platforms.\n",
    "\n",
    "multiprocessing: Module to create processes with separate memory space, providing a higher-level interface for process creation \n",
    "and management. The multiprocessing module is platform-independent and provides a simpler and more flexible way to create and \n",
    "manage processes, making it easier to write cross-platform code.\n",
    "\n",
    "\n",
    "Q19. What is the importance of closing a file in Python?\n",
    "\n",
    "Closing a file ensures that data is written and resources are released, preventing data corruption and resource leaks. It is a \n",
    "crucial step in file handling to maintain data integrity and system stability. When a file is closed, any buffered data is written \n",
    "to the file, and the file descriptor is released, making it available for other processes. Failing to close a file can lead to \n",
    "data loss, resource exhaustion, and other issues.\n",
    "\n",
    "Syntax\n",
    "file = open('file.txt', 'r')\n",
    "file.close()\n",
    "\n",
    "\n",
    "Q20. What is the difference between file.read() and file.readline() in Python?\n",
    "\n",
    "file.read(): Reads the entire file into a single string. This method is useful for reading small files that can be easily loaded \n",
    "into memory.\n",
    "\n",
    "file.readline(): Reads one line at a time, making it suitable for processing large files line-by-line. This method is useful for \n",
    "reading large files that cannot be loaded into memory all at once, allowing the program to process each line individually.\n",
    "\n",
    "\n",
    "Q21. What is the logging module in Python used for?\n",
    "\n",
    "The logging module provides a flexible framework for emitting log messages from Python programs, aiding in debugging and monitoring. \n",
    "It allows developers to track the flow of the program and identify issues. The logging module supports different log levels, output \n",
    "formats, and destinations, making it a powerful tool for managing log messages in Python applications.\n",
    "\n",
    "\n",
    "Q22. What is the os module in Python used for in file handling?\n",
    "\n",
    "The os module provides functions to interact with the operating system, such as file operations, directory management, and process \n",
    "handling. It is essential for performing system-level tasks in Python. The os module allows developers to perform tasks like \n",
    "creating, deleting, and renaming files and directories, as well as managing file permissions and attributes.\n",
    "\n",
    "\n",
    "Q23. What are the challenges associated with memory management in Python?\n",
    "\n",
    "Challenges include handling memory leaks, fragmentation, and ensuring efficient memory use to maintain application performance. \n",
    "Proper memory management is crucial for the stability and efficiency of applications. Memory leaks occur when objects are not \n",
    "properly deallocated, leading to increased memory usage over time. Fragmentation occurs when memory is allocated and deallocated \n",
    "in a way that leaves gaps, reducing the efficiency of memory usage.\n",
    "\n",
    "\n",
    "Q24. How do you raise an exception manually in Python?\n",
    "\n",
    "Use the raise statement with an exception to manually raise an error. This allows for custom error handling and can be used to \n",
    "enforce certain conditions in the code. Raising exceptions manually can help ensure that the program behaves as expected and can \n",
    "provide meaningful error messages to users and developers.\n",
    "\n",
    "\n",
    "Q25. Why is it important to use multithreading in certain applications?\n",
    "\n",
    "Multithreading improves performance by allowing concurrent execution of tasks, making applications more responsive and efficient. \n",
    "It is particularly useful for I/O-bound tasks where waiting for external resources can be parallelized. By using multiple threads,\n",
    "an application can perform multiple tasks simultaneously, improving overall performance and responsiveness.\n",
    "\n",
    "Syntax\n",
    "import threading\n",
    "def task():\n",
    "    print('Task executed')\n",
    "thread = threading.Thread(target=task)\n",
    "thread.start()\n",
    "\n",
    "'''"
   ]
  },
  {
   "cell_type": "code",
   "execution_count": null,
   "id": "b9308caa-5cbf-44db-8bd3-4d642d724173",
   "metadata": {},
   "outputs": [],
   "source": [
    "# Practical questions"
   ]
  },
  {
   "cell_type": "code",
   "execution_count": 3,
   "id": "6aa6ec2f-4422-400a-aec8-b297e6a7d9cf",
   "metadata": {},
   "outputs": [],
   "source": [
    "# Q1. How can you open a file for writing in Python and write a string to it?\n",
    "\n",
    "with open('myfile.txt', 'w') as file:\n",
    "    \n",
    "    file.write(\"HI MY NAME IS SHACHIN SHARMA\\n\")\n",
    "    file.write(\"THIS IS MY ASSIGNMENT FOR PWSKILLS\\n\")"
   ]
  },
  {
   "cell_type": "code",
   "execution_count": 4,
   "id": "b53f927d-af43-4166-bbe6-ccc18749d113",
   "metadata": {},
   "outputs": [
    {
     "name": "stdout",
     "output_type": "stream",
     "text": [
      "HI MY NAME IS SHACHIN SHARMA\n",
      "THIS IS MY ASSIGNMENT FOR PWSKILLS\n"
     ]
    }
   ],
   "source": [
    "# Q2. Write a Python program to read the contents of a file and print each line.\n",
    "\n",
    "with open('myfile.txt', 'r') as file:\n",
    "    for line in file:\n",
    "        print(line, end='')"
   ]
  },
  {
   "cell_type": "code",
   "execution_count": 5,
   "id": "4711937d-25bc-4ef7-b7e0-309ae93d30c2",
   "metadata": {},
   "outputs": [
    {
     "name": "stdout",
     "output_type": "stream",
     "text": [
      "Opps!!! The file 'answer3.txt' does not exist.\n"
     ]
    }
   ],
   "source": [
    "# Q3. How would you handle a case where the file doesn't exist while trying to open it for reading?\n",
    "\n",
    "file_path = 'answer3.txt'\n",
    "\n",
    "try:\n",
    "    with open(file_path, 'r') as file:\n",
    "        for line in file:\n",
    "            print(line, end='')\n",
    "except FileNotFoundError:\n",
    "    print(f\"Opps!!! The file '{file_path}' does not exist.\")"
   ]
  },
  {
   "cell_type": "code",
   "execution_count": 6,
   "id": "2bd747a1-8726-49c4-9b4f-cc6e708c96fe",
   "metadata": {},
   "outputs": [
    {
     "name": "stdout",
     "output_type": "stream",
     "text": [
      "Content copied from 'myfile.txt' to 'destination.txt' successfully.\n"
     ]
    }
   ],
   "source": [
    "# Q4. Write a Python script that reads from one file and writes its content to another file.\n",
    "\n",
    "\n",
    "source_file_path = 'myfile.txt'\n",
    "destination_file_path = 'destination.txt'\n",
    "\n",
    "try:\n",
    "    with open(source_file_path, 'r') as source_file:\n",
    "        content = source_file.read()\n",
    "\n",
    "    with open(destination_file_path, 'w') as destination_file:\n",
    "        destination_file.write(content)\n",
    "\n",
    "    print(f\"Content copied from '{source_file_path}' to '{destination_file_path}' successfully.\")\n",
    "except FileNotFoundError:\n",
    "    print(f\"Error: The file '{source_file_path}' does not exist.\")\n",
    "except Exception as e:\n",
    "    print(f\"An error occurred: {e}\")"
   ]
  },
  {
   "cell_type": "code",
   "execution_count": 7,
   "id": "8d12e417-9955-4084-8049-42f0309dd16d",
   "metadata": {},
   "outputs": [
    {
     "name": "stdout",
     "output_type": "stream",
     "text": [
      "Error: Sorry!! Division by zero is not allowed.\n"
     ]
    }
   ],
   "source": [
    "# Q5. How would you catch and handle division by zero error in Python?\n",
    "\n",
    "try:\n",
    "    numerator = 50\n",
    "    denominator = 0\n",
    "    result = numerator / denominator\n",
    "    print(f\"The result is {result}\")\n",
    "except ZeroDivisionError:\n",
    "    print(\"Error: Sorry!! Division by zero is not allowed.\")"
   ]
  },
  {
   "cell_type": "code",
   "execution_count": 13,
   "id": "72bb95b0-260f-4cff-be1c-b0f343544e06",
   "metadata": {},
   "outputs": [
    {
     "name": "stdout",
     "output_type": "stream",
     "text": [
      "An error occurred. Check the log file for details.\n"
     ]
    }
   ],
   "source": [
    "# Q6. Write a Python program that logs an error message to a log file when a division by zero exception occurs.\n",
    "\n",
    "import logging\n",
    "logging.basicConfig(filename='error.log', level=logging.ERROR, \n",
    "                    format='%(asctime)s - %(levelname)s - %(message)s')\n",
    "\n",
    "def divide(x, y):\n",
    "    try:\n",
    "        result = x / y\n",
    "        return result\n",
    "    except ZeroDivisionError:\n",
    "        logging.error(\"Division by zero occurred\")\n",
    "        return None\n",
    "        \n",
    "numerator = 10\n",
    "denominator = 0\n",
    "\n",
    "result = divide(numerator, denominator)\n",
    "\n",
    "if result is None:\n",
    "    print(\"An error occurred. Check the log file for details.\")\n",
    "else:\n",
    "    print(\"Result:\", result)"
   ]
  },
  {
   "cell_type": "code",
   "execution_count": 16,
   "id": "20427cbf-14b4-4815-b11d-33f266ee585a",
   "metadata": {},
   "outputs": [],
   "source": [
    "# Q7. How do you log information at different levels (INFO, ERROR, WARNING) in Python using the logging module?\n",
    "\n",
    "import logging\n",
    "\n",
    "logger = logging.getLogger(__name__)\n",
    "logging.basicConfig(level=logging.DEBUG,\n",
    "                    format='%(asctime)s - %(name)s - %(levelname)s - %(message)s')\n",
    "\n",
    "logger.info(\"This is an info message\")\n",
    "logger.warning(\"This is a warning message\")\n",
    "logger.error(\"This is an error message\")"
   ]
  },
  {
   "cell_type": "code",
   "execution_count": 17,
   "id": "a6b409fb-d59b-48d1-9f6e-a925c28cac94",
   "metadata": {},
   "outputs": [
    {
     "name": "stdout",
     "output_type": "stream",
     "text": [
      "HI MY NAME IS SHACHIN SHARMA\n",
      "THIS IS MY ASSIGNMENT FOR PWSKILLS\n",
      "\n",
      "Error: File 'mfile.txt' not found.\n"
     ]
    }
   ],
   "source": [
    "# Q8. Write a program to handle a file opening error using exception handling.\n",
    "\n",
    "def file_handling_example(filename):\n",
    "    try:\n",
    "        with open(filename, 'r') as file:\n",
    "            contents = file.read()\n",
    "            print(contents)\n",
    "    except FileNotFoundError:\n",
    "        print(f\"Error: File '{filename}' not found.\")\n",
    "    except Exception as e:\n",
    "        print(f\"An unexpected error occurred: {e}\")\n",
    "\n",
    "file_handling_example('myfile.txt') #in this the file is existing\n",
    "file_handling_example('mfile.txt') #in this the file is not existing"
   ]
  },
  {
   "cell_type": "code",
   "execution_count": 18,
   "id": "d625312c-075c-4bb1-8aa7-23de24bafa34",
   "metadata": {},
   "outputs": [
    {
     "name": "stdout",
     "output_type": "stream",
     "text": [
      "['HI MY NAME IS SHACHIN SHARMA', 'THIS IS MY ASSIGNMENT FOR PWSKILLS']\n"
     ]
    }
   ],
   "source": [
    "# Q9. How can you read a file line by line and store its content in a list in Python?\n",
    "\n",
    "\n",
    "file_path = 'myfile.txt'\n",
    "\n",
    "lines = []\n",
    "with open(file_path, 'r') as file:\n",
    "    for line in file:\n",
    "        lines.append(line.strip())\n",
    "\n",
    "print(lines)"
   ]
  },
  {
   "cell_type": "code",
   "execution_count": 2,
   "id": "70a2dc55-cf9b-45f9-a8e8-dc921009151d",
   "metadata": {},
   "outputs": [],
   "source": [
    "# Q10. How can you append data to an existing file in Python?\n",
    "\n",
    "with open('myfile.txt', 'a') as file:\n",
    "    file.write(\"This is appended text.\\n\")\n",
    "    file.write(\"This is question number 10.\\n\")"
   ]
  },
  {
   "cell_type": "code",
   "execution_count": 3,
   "id": "3f3cb3a1-742c-4275-8eb3-55a4a6beb787",
   "metadata": {},
   "outputs": [
    {
     "name": "stdout",
     "output_type": "stream",
     "text": [
      "Error: The key 'country' does not exist in the dictionary.\n",
      "Key 'country' was not found.\n"
     ]
    }
   ],
   "source": [
    "# Q11. Write a Python program that uses a try-except block to handle an error when attempting to access a dictionary\n",
    "# key that doesn't exist.\n",
    "\n",
    "data = {\"name\": \"AVINESH\", \"age\": 21, \"city\": \"LUCKNOW\"}\n",
    "\n",
    "def val(dictionary, key):\n",
    "    try:\n",
    "        value = dictionary[key]\n",
    "        return value\n",
    "    except KeyError:\n",
    "        print(f\"Error: The key '{key}' does not exist in the dictionary.\")\n",
    "        return None\n",
    "\n",
    "key_to_look = \"country\"\n",
    "result = val(data, key_to_look)\n",
    "\n",
    "if result is not None:\n",
    "    print(f\"The value for key '{key_to_look}' is: {result}\")\n",
    "else:\n",
    "    print(f\"Key '{key_to_look}' was not found.\")"
   ]
  },
  {
   "cell_type": "code",
   "execution_count": 4,
   "id": "cd002cf7-bd8c-4cf9-977c-f14c83e3627f",
   "metadata": {},
   "outputs": [
    {
     "name": "stdin",
     "output_type": "stream",
     "text": [
      "Enter a number:  5\n"
     ]
    },
    {
     "name": "stdout",
     "output_type": "stream",
     "text": [
      "The result of 10 divided by 5 is 2.0\n"
     ]
    },
    {
     "name": "stdin",
     "output_type": "stream",
     "text": [
      "Enter a key to access the dictionary:  Date\n"
     ]
    },
    {
     "name": "stdout",
     "output_type": "stream",
     "text": [
      "Error: The specified key does not exist in the dictionary.\n"
     ]
    }
   ],
   "source": [
    "# Q12. Write a program that demonstrates using multiple except blocks to handle different types of exceptions.\n",
    "\n",
    "def handle_exceptions():\n",
    "    try:\n",
    "        num = int(input(\"Enter a number: \"))\n",
    "        result = 10 / num\n",
    "        print(f\"The result of 10 divided by {num} is {result}\")\n",
    "\n",
    "        my_dict = {\"a\": 21, \"b\": 50}\n",
    "        key = input(\"Enter a key to access the dictionary: \")\n",
    "        value = my_dict[key]\n",
    "        print(f\"The value for the key '{key}' is {value}\")\n",
    "\n",
    "    except ZeroDivisionError:\n",
    "        print(\"Error: Division by zero is not allowed.\")\n",
    "    except ValueError:\n",
    "        print(\"Error: Invalid input. Please enter a valid number.\")\n",
    "    except KeyError:\n",
    "        print(\"Error: The specified key does not exist in the dictionary.\")\n",
    "    except Exception as e:\n",
    "        print(f\"An unexpected error occurred: {e}\")\n",
    "\n",
    "handle_exceptions()"
   ]
  },
  {
   "cell_type": "code",
   "execution_count": 6,
   "id": "adc60f1b-e111-410f-b1fd-db3c0e0c7353",
   "metadata": {},
   "outputs": [
    {
     "name": "stdout",
     "output_type": "stream",
     "text": [
      "The file 'mfile.txt' does not exist.\n"
     ]
    }
   ],
   "source": [
    "#Q13. How would you check if a file exists before attempting to read it in Python?\n",
    "\n",
    "import os\n",
    "\n",
    "file_path = \"mfile.txt\"\n",
    "\n",
    "if os.path.exists(file_path):\n",
    "    with open(file_path, 'r') as file:\n",
    "        content = file.read()\n",
    "        print(\"File content:\")\n",
    "        print(content)\n",
    "else:\n",
    "    print(f\"The file '{file_path}' does not exist.\")"
   ]
  },
  {
   "cell_type": "code",
   "execution_count": 8,
   "id": "95e87b85-de85-46da-a4ea-293bec02c61c",
   "metadata": {},
   "outputs": [
    {
     "name": "stderr",
     "output_type": "stream",
     "text": [
      "2025-06-05 13:24:18,725 - INFO - Starting the application...\n",
      "2025-06-05 13:24:18,727 - INFO - Dividing 10 by 2 = 5.0\n",
      "2025-06-05 13:24:18,728 - ERROR - Error: Division by zero\n",
      "2025-06-05 13:24:18,729 - ERROR - An unexpected error occurred: unsupported operand type(s) for /: 'int' and 'str'\n",
      "2025-06-05 13:24:18,730 - INFO - Application finished\n"
     ]
    }
   ],
   "source": [
    "# Q14. Write a program that uses the logging module to log both informational and error messages.\n",
    "\n",
    "import logging\n",
    "logging.basicConfig(level=logging.INFO, format='%(asctime)s - %(levelname)s - %(message)s')\n",
    "\n",
    "logging.info('Starting the application...')\n",
    "\n",
    "def divide(x, y):\n",
    "    try:\n",
    "        result = x / y\n",
    "        logging.info(f'Dividing {x} by {y} = {result}')\n",
    "        return result\n",
    "    except ZeroDivisionError:\n",
    "        logging.error('Error: Division by zero')\n",
    "        return None\n",
    "    except Exception as e:\n",
    "        logging.error(f'An unexpected error occurred: {e}')\n",
    "        return None\n",
    "\n",
    "# Perform some operations\n",
    "divide(10, 2)\n",
    "divide(5, 0)\n",
    "divide(8, 'a')\n",
    "\n",
    "logging.info('Application finished')"
   ]
  },
  {
   "cell_type": "code",
   "execution_count": 9,
   "id": "c9ba76d6-1133-4d60-b63a-00692330725d",
   "metadata": {},
   "outputs": [
    {
     "name": "stdout",
     "output_type": "stream",
     "text": [
      "The file is empty.\n"
     ]
    }
   ],
   "source": [
    "# Q15. Write a Python program that prints the content of a file and handles the case when the file is empty.\n",
    "\n",
    "with open('myfile.txt', 'w') as file:\n",
    "  file.write(\"\")\n",
    "  file.close()\n",
    "def print_file_content(filename):\n",
    "    try:\n",
    "        with open(filename, 'r') as file:\n",
    "            content = file.read()\n",
    "            if not content:\n",
    "                print(\"The file is empty.\")\n",
    "            else:\n",
    "                print(content)\n",
    "    except FileNotFoundError:\n",
    "        print(f\"Error: File '{filename}' not found.\")\n",
    "\n",
    "# Example usage\n",
    "print_file_content('myfile.txt')"
   ]
  },
  {
   "cell_type": "code",
   "execution_count": 13,
   "id": "3edd12b4-6b31-433b-8c68-183c9569152c",
   "metadata": {},
   "outputs": [
    {
     "name": "stdout",
     "output_type": "stream",
     "text": [
      "Requirement already satisfied: memory-profiler in c:\\users\\bidis\\appdata\\local\\programs\\python\\python313\\lib\\site-packages (0.61.0)\n",
      "Requirement already satisfied: psutil in c:\\users\\bidis\\appdata\\local\\programs\\python\\python313\\lib\\site-packages (from memory-profiler) (7.0.0)\n",
      "ERROR: Could not find file C:\\Users\\bidis\\AppData\\Local\\Temp\\ipykernel_11248\\2264404846.py\n"
     ]
    }
   ],
   "source": [
    "# Q16. Demonstrate how to use memory profiling to check the memory usage of a small program.\n",
    "\n",
    "!pip install memory-profiler\n",
    "from memory_profiler import profile\n",
    "\n",
    "@profile\n",
    "def simple_function():\n",
    "    a = [i for i in range(100000)]  # Create a large list\n",
    "    b = sum(a)  # Calculate the sum of the list\n",
    "    return b\n",
    "\n",
    "if __name__ == \"__main__\":\n",
    "    simple_function()"
   ]
  },
  {
   "cell_type": "code",
   "execution_count": 14,
   "id": "1b4458c5-18cb-4a02-a4b1-70d670fe1ef8",
   "metadata": {},
   "outputs": [
    {
     "name": "stdout",
     "output_type": "stream",
     "text": [
      "Numbers successfully written to 'numbers.txt'.\n"
     ]
    }
   ],
   "source": [
    "# Q17. Write a Python program to create and write a list of numbers to a file, one number per line.\n",
    "\n",
    "def write_numbers_to_file(numbers, filename):\n",
    "    try:\n",
    "        with open(filename, 'w') as file:\n",
    "            for number in numbers:\n",
    "                file.write(str(number) + '\\n')\n",
    "        print(f\"Numbers successfully written to '{filename}'.\")\n",
    "    except Exception as e:\n",
    "        print(f\"An error occurred: {e}\")\n",
    "\n",
    "numbers = [1, 2, 3, 4, 5]\n",
    "filename = 'numbers.txt'\n",
    "write_numbers_to_file(numbers, filename)"
   ]
  },
  {
   "cell_type": "code",
   "execution_count": 15,
   "id": "c08a7fb5-2789-42c7-b887-20e1fe87e992",
   "metadata": {},
   "outputs": [
    {
     "name": "stderr",
     "output_type": "stream",
     "text": [
      "2025-06-05 13:27:22,721 - INFO - This is an informational message.\n",
      "2025-06-05 13:27:22,723 - DEBUG - This is a debug message.\n",
      "2025-06-05 13:27:22,725 - WARNING - This is a warning message.\n",
      "2025-06-05 13:27:22,727 - ERROR - This is an error message.\n",
      "2025-06-05 13:27:22,729 - CRITICAL - This is a critical message.\n"
     ]
    },
    {
     "name": "stdout",
     "output_type": "stream",
     "text": [
      "Logging setup complete. Check the log file for messages.\n"
     ]
    }
   ],
   "source": [
    "# Q18. How would you implement a basic logging setup that logs to a file with rotation after 1MB?\n",
    "\n",
    "import logging\n",
    "from logging.handlers import RotatingFileHandler\n",
    "\n",
    "log_file = 'app.log'\n",
    "log_formatter = logging.Formatter('%(asctime)s - %(levelname)s - %(message)s')\n",
    "\n",
    "handler = RotatingFileHandler(log_file, maxBytes=1*1024*1024, backupCount=5)\n",
    "handler.setFormatter(log_formatter)\n",
    "\n",
    "logger = logging.getLogger()\n",
    "logger.setLevel(logging.DEBUG)\n",
    "logger.addHandler(handler)\n",
    "\n",
    "def main():\n",
    "    logger.info(\"This is an informational message.\")\n",
    "    logger.debug(\"This is a debug message.\")\n",
    "    logger.warning(\"This is a warning message.\")\n",
    "    logger.error(\"This is an error message.\")\n",
    "    logger.critical(\"This is a critical message.\")\n",
    "\n",
    "if __name__ == \"__main__\":\n",
    "    main()\n",
    "    print(\"Logging setup complete. Check the log file for messages.\")"
   ]
  },
  {
   "cell_type": "code",
   "execution_count": 16,
   "id": "ccefbfa1-5d50-43e5-af42-4d226bef471e",
   "metadata": {},
   "outputs": [
    {
     "name": "stdout",
     "output_type": "stream",
     "text": [
      "Error: List index out of range.\n",
      "Error: The specified key does not exist in the dictionary.\n"
     ]
    }
   ],
   "source": [
    "# Q19. Write a program that handles both IndexError and KeyError using a try-except block.\n",
    "\n",
    "my_list = [1, 2, 3]\n",
    "my_dict = {\"a\": 1, \"b\": 2}\n",
    "\n",
    "try:\n",
    "    print(my_list[5])\n",
    "except IndexError:\n",
    "    print(\"Error: List index out of range.\")\n",
    "\n",
    "try:\n",
    "    value = my_dict[\"c\"]\n",
    "    print(value)\n",
    "except KeyError:\n",
    "    print(\"Error: The specified key does not exist in the dictionary.\")"
   ]
  },
  {
   "cell_type": "code",
   "execution_count": 17,
   "id": "2c30c9c1-4930-4741-926d-88ac00288db6",
   "metadata": {},
   "outputs": [
    {
     "name": "stdout",
     "output_type": "stream",
     "text": [
      "HI MY NAME IS SHACHIN SHARMA\n",
      "THIS IS MY ASSIGNMENT FOR PWSKILLS\n",
      "\n"
     ]
    }
   ],
   "source": [
    "# Q20. How would you open a file and read its contents using a context manager in Python?\n",
    "\n",
    "file_path = \"destination.txt\"\n",
    "\n",
    "with open(file_path, 'r') as file:\n",
    "    content = file.read()\n",
    "\n",
    "print(content)"
   ]
  },
  {
   "cell_type": "code",
   "execution_count": 19,
   "id": "8cdee6f2-5d5b-4771-9d99-03ebc9b017c0",
   "metadata": {},
   "outputs": [
    {
     "name": "stdout",
     "output_type": "stream",
     "text": [
      "The word 'SHACHIN' appears 1 times in the file.\n"
     ]
    }
   ],
   "source": [
    "# Q21. Write a Python program that reads a file and prints the number of occurrences of a specific word.\n",
    "\n",
    "def count_word_occurrences(filename, word):\n",
    "    \n",
    "    try:\n",
    "        with open(filename, 'r') as file:\n",
    "            content = file.read()\n",
    "            occurrences = content.lower().count(word.lower())  # Case-insensitive count\n",
    "            return occurrences\n",
    "    except FileNotFoundError:\n",
    "        print(f\"Error: File '{filename}' not found.\")\n",
    "        return -1\n",
    "\n",
    "filename = \"destination.txt\"\n",
    "word_to_count = \"SHACHIN\"\n",
    "count = count_word_occurrences(filename, word_to_count)\n",
    "\n",
    "if count != -1:\n",
    "    print(f\"The word '{word_to_count}' appears {count} times in the file.\")"
   ]
  },
  {
   "cell_type": "code",
   "execution_count": 20,
   "id": "b6d427db-55a1-4c67-8597-64d0884129a2",
   "metadata": {},
   "outputs": [
    {
     "name": "stdout",
     "output_type": "stream",
     "text": [
      "1\n",
      "2\n",
      "3\n",
      "4\n",
      "5\n",
      "\n"
     ]
    }
   ],
   "source": [
    "# Q22. How can you check if a file is empty before attempting to read its contents?\n",
    "\n",
    "import os\n",
    "\n",
    "def print_file_content(filename):\n",
    "    if not os.path.exists(filename):\n",
    "        print(f\"Error: File '{filename}' not found.\")\n",
    "        return\n",
    "\n",
    "    try:\n",
    "        with open(filename, 'r') as file:\n",
    "            content = file.read()\n",
    "            if not content:\n",
    "                print(\"The file is empty.\")\n",
    "            else:\n",
    "                print(content)\n",
    "    except Exception as e:\n",
    "        print(f\"An error occurred while reading the file: {e}\")\n",
    "\n",
    "print_file_content('numbers.txt')"
   ]
  },
  {
   "cell_type": "code",
   "execution_count": 21,
   "id": "65c3e956-44da-4606-bcfb-b9e5664d6b80",
   "metadata": {},
   "outputs": [
    {
     "name": "stderr",
     "output_type": "stream",
     "text": [
      "2025-06-05 13:29:53,761 - ERROR - Error: File 'destinatio.txt' not found.\n"
     ]
    }
   ],
   "source": [
    "# Q23. Write a Python program that writes to a log file when an error occurs during file handling.\n",
    "\n",
    "import logging\n",
    "logging.basicConfig(filename='file_handling.log', level=logging.ERROR,\n",
    "                    format='%(asctime)s - %(levelname)s - %(message)s')\n",
    "\n",
    "def process_file(filename):\n",
    "    try:\n",
    "        with open(filename, 'r') as file:\n",
    "            contents = file.read()\n",
    "            print(contents)\n",
    "    except FileNotFoundError:\n",
    "        logging.error(f\"Error: File '{filename}' not found.\")\n",
    "    except Exception as e:\n",
    "        logging.error(f\"An unexpected error occurred while processing '{filename}': {e}\")\n",
    "\n",
    "process_file('destinatio.txt')"
   ]
  }
 ],
 "metadata": {
  "kernelspec": {
   "display_name": "Python 3 (ipykernel)",
   "language": "python",
   "name": "python3"
  },
  "language_info": {
   "codemirror_mode": {
    "name": "ipython",
    "version": 3
   },
   "file_extension": ".py",
   "mimetype": "text/x-python",
   "name": "python",
   "nbconvert_exporter": "python",
   "pygments_lexer": "ipython3",
   "version": "3.13.3"
  }
 },
 "nbformat": 4,
 "nbformat_minor": 5
}
