{
 "cells": [
  {
   "cell_type": "code",
   "execution_count": null,
   "id": "3a20519c-a81c-4850-b2c7-be45089eecee",
   "metadata": {},
   "outputs": [],
   "source": [
    "'''\n",
    "1. What are data structures, and why are they important?\n",
    "\n",
    "ans) Data structures are specialized formats for organizing, storing, and accessing collections of data. \n",
    "They provide efficient ways to manage information based on its characteristics and intended use.\n",
    "'''"
   ]
  },
  {
   "cell_type": "code",
   "execution_count": null,
   "id": "4a2dde9e-abdc-4523-a4a8-6847dc133464",
   "metadata": {},
   "outputs": [],
   "source": [
    "'''\n",
    "2. Explain the differences between mutable and immutable data types with examples.\n",
    "\n",
    "ans) A mutable object in Python is something that can be changed after it is created. This means you can modify, \n",
    "add, or remove elements within the object without creating a new object. Lists, dictionaries, and sets are \n",
    "examples of mutable objects.\n",
    "\n",
    "An immutable object in Python is one that cannot be changed once it is created. This means that after you \n",
    "create an immutable object, its content or state remains constant. Common examples of immutable objects \n",
    "are strings, and tuples.\n",
    "'''"
   ]
  },
  {
   "cell_type": "code",
   "execution_count": null,
   "id": "51c268ed-1d4f-413f-b92d-a48cec414bc3",
   "metadata": {},
   "outputs": [],
   "source": [
    "'''\n",
    "3. What are the main differences between lists and tuples in Python?\n",
    "\n",
    "ans) In Python, lists and tuples both store collections of data, but differ in mutability, performance \n",
    "and memory usage. Lists are mutable, allowing modifications, while tuples are immutable. Choosing between \n",
    "them depends on whether you need to modify the data or prioritize performance and memory efficiency.\n",
    "'''"
   ]
  },
  {
   "cell_type": "code",
   "execution_count": null,
   "id": "84d45a28-47cd-478e-b632-57a2a2ec9a32",
   "metadata": {},
   "outputs": [],
   "source": [
    "'''\n",
    "4. Describe how dictionaries store data.\n",
    "\n",
    "ans) Dictionaries are unordered collections of data and are represented with curly brackets { } . \n",
    "Like lists, dictionaries are mutable(changeable) and indexed. With dictionaries, data is stored \n",
    "in a key:value format. \n",
    "'''"
   ]
  },
  {
   "cell_type": "code",
   "execution_count": null,
   "id": "084afa78-ae03-4ac3-8ffb-60e82c562990",
   "metadata": {},
   "outputs": [],
   "source": [
    "'''\n",
    "5. Why might you use a set instead of a list in Python?\n",
    "\n",
    "ans) Sets and lists are both used for storing collections of items in Python, but they have key \n",
    "differences that make them suitable for different situations. We can use Set instead of list as \n",
    "sets do not allow duplicate elements. If we need to ensure that each item in our collection is \n",
    "unique, a set is the appropriate choice. Lists, on the other hand, allow duplicates.\n",
    "'''"
   ]
  },
  {
   "cell_type": "code",
   "execution_count": null,
   "id": "fe330a60-050f-461f-a62e-f811e1b7ba9b",
   "metadata": {},
   "outputs": [],
   "source": [
    "'''\n",
    "6. What is a string in Python, and how is it different from a list?\n",
    "\n",
    "ans) A string is a sequence of characters between single or double quotes. A list is a sequence \n",
    "of items, where each item could be anything (an integer, a float, a string, etc).\n",
    "\n",
    "Also, string are immutable whereas List are mutable.\n",
    "'''"
   ]
  },
  {
   "cell_type": "code",
   "execution_count": null,
   "id": "5d2bccf0-f2e9-4f74-9564-ca8ab8965672",
   "metadata": {},
   "outputs": [],
   "source": [
    "'''\n",
    "7. How do tuples ensure data integrity in Python?\n",
    "\n",
    "ans) Tuples are ordered, immutable collections of elements, similar to lists. However, once created,\n",
    "the items in a tuple cannot be changed. They provide a secure way to store data that shouldn't be \n",
    "modified. This characteristic guarantees that the data stored within a tuple remains constant \n",
    "throughout its lifecycle.\n",
    "'''"
   ]
  },
  {
   "cell_type": "code",
   "execution_count": null,
   "id": "41fe8136-2096-40fa-b6e4-abc64626a5fa",
   "metadata": {},
   "outputs": [],
   "source": [
    "'''\n",
    "8. What is a hash table and how does it relate to dictionaries in Python?\n",
    "\n",
    "ans) A hash table is a data structure that stores key-value pairs, where each key is unique and \n",
    "the position (index) for each key is determined by a hash function. This function takes the key \n",
    "as input and computes an index within an array (the \"hash table\" itself), where the corresponding \n",
    "value is stored.\n",
    "\n",
    "In Python, dictionaries are implemented using hash tables. When a key-value pair is added to a \n",
    "dictionary, Python computes the hash value of the key using its built-in hash() function. This \n",
    "hash value is then used to determine the index in the underlying hash table where the value will \n",
    "be stored.\n",
    "'''"
   ]
  },
  {
   "cell_type": "code",
   "execution_count": null,
   "id": "55bfb219-8d93-4fa8-a234-99630b85f484",
   "metadata": {},
   "outputs": [],
   "source": [
    "'''\n",
    "9. Can lists contain different data types in Python?\n",
    "\n",
    "ans) Yes, lists in Python can contain elements of different data types. A single list can hold \n",
    "integers, floats, strings, booleans, and even other lists, tuples, or dictionaries. This flexibility \n",
    "is a key feature of Python lists. \n",
    "'''"
   ]
  },
  {
   "cell_type": "code",
   "execution_count": null,
   "id": "54950363-251f-42b8-839b-1ec333094491",
   "metadata": {},
   "outputs": [],
   "source": [
    "'''\n",
    "10. Explain why strings are immutable in Python.\n",
    "\n",
    "ans) Strings in Python are “immutable” which means they can not be changed after they are created.\n",
    "Some otherimmutable data types are integers, float, boolean, etc.The immutability of Python string \n",
    "is very useful as it helps in hashing, performance optimization, safety, ease of use, etc.\n",
    "'''"
   ]
  },
  {
   "cell_type": "code",
   "execution_count": null,
   "id": "fe792d45-0a10-4ae0-8664-1c5bfae11df0",
   "metadata": {},
   "outputs": [],
   "source": [
    "'''\n",
    "11. What advantages do dictionaries offer over lists for certain tasks?\n",
    "\n",
    "ans) Dictionaries in Python are a versatile data structure that allows for efficient storage and \n",
    "retrieval of key-value pairs. By using a key to uniquely identify each value, dictionaries offer \n",
    "fast lookups which are essential for tasks like mapping relationships between different entities.\n",
    "\n",
    "So it is more efficient to use dictionaries for the searching of elements as it can be carried \n",
    "out in a much faster manner than lits.\n",
    "'''"
   ]
  },
  {
   "cell_type": "raw",
   "id": "e7b57c84-9899-42ad-9078-417a5057f2e2",
   "metadata": {},
   "source": [
    "'''\n",
    "12. Describe a scenario where using a tuple would be preferable over a list.\n",
    "\n",
    "ans) Suppose we wrote a method that depends on a particular sequence of objects (such as Adhaar \n",
    "Card Number, Employee ID, etc) remaining the same throughout the lifetime of the code. If we store\n",
    "these objects in a list, there is a chance that some other method using the list will accidentally \n",
    "alter it and thus break our method. Thus, in a way, a tuple offers a guarantee that a particular \n",
    "collection of objects will remain fixed.\n",
    "\n",
    "Thus in python lists are mutable to offer modification when required whereas tuples are immutable to\n",
    "ensure that a code that is dependent on the sequence of objects does not run into error.\n",
    "'''"
   ]
  },
  {
   "cell_type": "code",
   "execution_count": null,
   "id": "6ffd0d64-5669-40f4-b94e-961b8d4388a5",
   "metadata": {},
   "outputs": [],
   "source": [
    "'''\n",
    "13. How do sets handle duplicate values in Python?\n",
    "\n",
    "ans) Sets in Python are designed to store only unique elements. When a duplicate value is added to \n",
    "a set, it is automatically discarded, and only one instance of the value is returned in the output. \n",
    "This behavior ensures that sets maintain their property of containing distinct elements.\n",
    "'''"
   ]
  },
  {
   "cell_type": "code",
   "execution_count": null,
   "id": "8c1352c9-a326-47a5-bcd7-a242f2b311e1",
   "metadata": {},
   "outputs": [],
   "source": [
    "'''\n",
    "14. How does the \"in\" keyword work differently for lists and dictionaries?\n",
    "\n",
    "ans) When used with a list, the \"in\" keyword iterates through the list's elements sequentially, \n",
    "comparing each element to the target value. It returns True if a match is found and False otherwise.\n",
    "\n",
    "With dictionaries, the \"in\" keyword checks for the presence of a key, not a value. It returns True \n",
    "if the target value exists as a key in the dictionary and False otherwise. \n",
    "'''"
   ]
  },
  {
   "cell_type": "code",
   "execution_count": null,
   "id": "3931a24f-8acb-4892-9588-98309799e63e",
   "metadata": {},
   "outputs": [],
   "source": [
    "'''\n",
    "15. Can you modify the elements of a tuple? Explain why or why not.\n",
    "\n",
    "ans) No, we cannot directly modify the elements of a tuple in Python after it's been created. \n",
    "Tuples are immutable, meaning their contents cannot be changed once they are defined. Trying \n",
    "to modify a tuple will result in a TypeError.\n",
    "\n",
    "Immutability helps ensure that data is not accidentally changed, which is useful in scenarios \n",
    "where the data should be preserved. \n",
    "'''"
   ]
  },
  {
   "cell_type": "code",
   "execution_count": null,
   "id": "d658bef5-6a26-4271-90aa-684142d50f15",
   "metadata": {},
   "outputs": [],
   "source": [
    "'''\n",
    "16. What is a nested dictionary, and give an example of its use case?\n",
    "\n",
    "ans) A nested dictionary in Python is a dictionary where the values are themselves dictionaries. \n",
    "This allows for the creation of a hierarchical structure where data can be organized into multiple \n",
    "levels. \n",
    "\n",
    "A common use case for nested dictionaries is representing complex, multi-layered data, such as employee \n",
    "information with nested address and contact details.\n",
    "'''"
   ]
  },
  {
   "cell_type": "code",
   "execution_count": null,
   "id": "170f9c36-7ed0-499c-a471-732dd5dd4a2b",
   "metadata": {},
   "outputs": [],
   "source": [
    "'''\n",
    "17. Describe the time complexity of accessing elements in a dictionary.\n",
    "\n",
    "ans) Accessing an element in a dictionary using its key typically has a time complexity of O(1) on \n",
    "average, meaning it takes constant time, regardless of the dictionary's size. However, in the worst\n",
    "-case scenario, it can degrade to O(n), where n is the number of key-value pairs, if there are many \n",
    "hash collisions.\n",
    "'''"
   ]
  },
  {
   "cell_type": "code",
   "execution_count": null,
   "id": "51a95423-3b85-46c7-8a52-21b1e10dba4e",
   "metadata": {},
   "outputs": [],
   "source": [
    "'''\n",
    "18. In what situations are lists preferred over dictionaries?\n",
    "\n",
    "ans) For ordered collections and sequence operations, such as maintaining a stack or queue, lists \n",
    "are more suitable as unlike dictionary that is an unordered data collection in a key: value pair. \n",
    "'''"
   ]
  },
  {
   "cell_type": "raw",
   "id": "fe60aa54-fcb5-4ac9-b677-c9795bb45ce3",
   "metadata": {},
   "source": [
    "'''\n",
    "19. Why are dictionaries considered unordered and how does that affect data retrieval?\n",
    "\n",
    "ans) Dictionary is termed as an unordered collection of object because the printed order of elements \n",
    "is not same as the order in which the elements are stored. It means that during data retrieval we can’t \n",
    "access the dictionary element based on it’s position value.\n",
    "'''"
   ]
  },
  {
   "cell_type": "code",
   "execution_count": null,
   "id": "3e6c2512-03c9-41e9-9dcc-8e3e95b8a0a6",
   "metadata": {},
   "outputs": [],
   "source": [
    "'''\n",
    "20. Explain the difference between a list and a dictionary in terms of data retrieval.\n",
    "\n",
    "ans) In terms of data retrieval, a dictionary excels at quickly accessing values using unique keys, \n",
    "while a list retrieves values based on their position (index) in a sequence. Lists require searching\n",
    "through elements, while dictionaries use hashing for near-instantaneous lookup, making them significantly \n",
    "faster for accessing data by a specific identifier. \n",
    "'''"
   ]
  },
  {
   "cell_type": "code",
   "execution_count": 1,
   "id": "9106283e-de2d-42ca-ad46-501c40f3eac6",
   "metadata": {},
   "outputs": [
    {
     "name": "stdout",
     "output_type": "stream",
     "text": [
      "Shachin Sharma\n"
     ]
    }
   ],
   "source": [
    "#Practical Qustions\n",
    "\n",
    "#1. Write a code to create a string with your name and print it.\n",
    "\n",
    "name=\"Shachin Sharma\"\n",
    "print(name)                                         "
   ]
  },
  {
   "cell_type": "code",
   "execution_count": 4,
   "id": "2e46c4ec-c550-4f45-8676-7a79e8e1fbf0",
   "metadata": {},
   "outputs": [
    {
     "data": {
      "text/plain": [
       "11"
      ]
     },
     "execution_count": 4,
     "metadata": {},
     "output_type": "execute_result"
    }
   ],
   "source": [
    "#2. Write a code to find the length of the string \"Hello World\".\n",
    "\n",
    "a = \"Hello World\"\n",
    "len(a)"
   ]
  },
  {
   "cell_type": "code",
   "execution_count": 5,
   "id": "27c480a4-c419-4df6-9075-ad89a60ddbe5",
   "metadata": {},
   "outputs": [
    {
     "data": {
      "text/plain": [
       "'Pyt'"
      ]
     },
     "execution_count": 5,
     "metadata": {},
     "output_type": "execute_result"
    }
   ],
   "source": [
    "#3. Write a code to slice the first 3 characters from the string \"Python Programming\".\n",
    "\n",
    "b = \"Python Programming\"\n",
    "b[0:3]"
   ]
  },
  {
   "cell_type": "code",
   "execution_count": 6,
   "id": "a77c208f-1bc6-4331-abc2-247475781fe9",
   "metadata": {},
   "outputs": [
    {
     "data": {
      "text/plain": [
       "'HELLO'"
      ]
     },
     "execution_count": 6,
     "metadata": {},
     "output_type": "execute_result"
    }
   ],
   "source": [
    "#4. Write a code to convert the string \"hello\" to uppercase.\n",
    "\n",
    "c = \"hello\"\n",
    "c.upper()"
   ]
  },
  {
   "cell_type": "code",
   "execution_count": 7,
   "id": "f706423a-2cfa-4026-9410-7da8c259e5d9",
   "metadata": {},
   "outputs": [
    {
     "data": {
      "text/plain": [
       "'I like Orange'"
      ]
     },
     "execution_count": 7,
     "metadata": {},
     "output_type": "execute_result"
    }
   ],
   "source": [
    "#5.  Write a code to replace the word \"apple\" with \"orange\" in the string \"I like apple\".\n",
    "\n",
    "d = \"I like apple\"\n",
    "d.replace(\"apple\",\"Orange\")"
   ]
  },
  {
   "cell_type": "code",
   "execution_count": 8,
   "id": "f068a770-2141-4842-ae26-72bfd518c6cd",
   "metadata": {},
   "outputs": [
    {
     "name": "stdout",
     "output_type": "stream",
     "text": [
      "[1, 2, 3, 4, 5]\n"
     ]
    }
   ],
   "source": [
    "#6. Write a code to create a list with numbers 1 to 5 and print it.\n",
    "\n",
    "e = range(1,6)\n",
    "print(list(e))"
   ]
  },
  {
   "cell_type": "code",
   "execution_count": 13,
   "id": "ffacc1c6-55ab-41fc-b590-9d7b2b9173cc",
   "metadata": {},
   "outputs": [
    {
     "name": "stdout",
     "output_type": "stream",
     "text": [
      "[1, 2, 3, 4, 10]\n"
     ]
    }
   ],
   "source": [
    "#7. Write a code to append the number 10 to the list [1,2,3,4].\n",
    "\n",
    "f = range (1,5)\n",
    "g = list(f)\n",
    "g.append(int(\"10\"))\n",
    "print(g)"
   ]
  },
  {
   "cell_type": "code",
   "execution_count": 15,
   "id": "fb808917-5b17-48bb-9dc3-40ff12c22841",
   "metadata": {},
   "outputs": [
    {
     "name": "stdout",
     "output_type": "stream",
     "text": [
      "[1, 2, 4, 5]\n"
     ]
    }
   ],
   "source": [
    "#8. Write a code to remove the number 3 from the list [1,2,3,4,5].\n",
    "\n",
    "h = [1,2,3,4,5]\n",
    "h.remove(3)\n",
    "print(h)"
   ]
  },
  {
   "cell_type": "code",
   "execution_count": 16,
   "id": "e37a39f6-1f55-43e7-86d0-883ad1be5591",
   "metadata": {},
   "outputs": [
    {
     "data": {
      "text/plain": [
       "'b'"
      ]
     },
     "execution_count": 16,
     "metadata": {},
     "output_type": "execute_result"
    }
   ],
   "source": [
    "#9. Write a code to access the second element in the list ['a','b','c','d'].\n",
    "\n",
    "i = ['a','b','c','d']\n",
    "i[1]"
   ]
  },
  {
   "cell_type": "code",
   "execution_count": 17,
   "id": "1fcb74c5-64d9-402f-b2fb-20d264236a3b",
   "metadata": {},
   "outputs": [
    {
     "data": {
      "text/plain": [
       "[50, 40, 30, 20, 10]"
      ]
     },
     "execution_count": 17,
     "metadata": {},
     "output_type": "execute_result"
    }
   ],
   "source": [
    "#10. Write a code to reverse the list [10,20,30,40,50].\n",
    "\n",
    "j = [10,20,30,40,50]\n",
    "j[ : :-1]"
   ]
  },
  {
   "cell_type": "code",
   "execution_count": 20,
   "id": "d026d896-c80d-47a6-8f7f-91f090a340d2",
   "metadata": {},
   "outputs": [
    {
     "name": "stdout",
     "output_type": "stream",
     "text": [
      "(100, 200, 300)\n"
     ]
    }
   ],
   "source": [
    "#11. Write a code to create a tuple with the elements 100,200,300 and print it.\n",
    "\n",
    "k = range (100,400,100)\n",
    "l = tuple(k)\n",
    "print(l)"
   ]
  },
  {
   "cell_type": "code",
   "execution_count": 26,
   "id": "85dbf3c4-7706-4319-9bc2-a363dfb33890",
   "metadata": {},
   "outputs": [
    {
     "data": {
      "text/plain": [
       "('green', 'blue', 'yellow')"
      ]
     },
     "execution_count": 26,
     "metadata": {},
     "output_type": "execute_result"
    }
   ],
   "source": [
    "#12. Write a code to access the second-to-last element of the tuple ('red','green','blue','yellow').\n",
    "\n",
    "m = ('red','green','blue','yellow')\n",
    "m[1: ]"
   ]
  },
  {
   "cell_type": "code",
   "execution_count": 27,
   "id": "5ffebf42-c835-4e17-9c92-f1d866b7084d",
   "metadata": {},
   "outputs": [
    {
     "data": {
      "text/plain": [
       "5"
      ]
     },
     "execution_count": 27,
     "metadata": {},
     "output_type": "execute_result"
    }
   ],
   "source": [
    "#13. Write a code to find the minimum number in the tuple (10,20,5,15).\n",
    "\n",
    "n = (10,20,5,15)\n",
    "min(n)"
   ]
  },
  {
   "cell_type": "code",
   "execution_count": 31,
   "id": "e9fb78f4-69bf-4321-8c91-6ff0c2d8c4c1",
   "metadata": {},
   "outputs": [
    {
     "data": {
      "text/plain": [
       "1"
      ]
     },
     "execution_count": 31,
     "metadata": {},
     "output_type": "execute_result"
    }
   ],
   "source": [
    "#14. Write a code to find the index of the element \"cat\" in the tuple ('dog','cat','rabbit').\n",
    "\n",
    "o = ('dog','cat','rabbit')\n",
    "o.index('cat')"
   ]
  },
  {
   "cell_type": "code",
   "execution_count": 35,
   "id": "d97f3b9e-6ad1-4f04-8f93-b054e6433409",
   "metadata": {},
   "outputs": [
    {
     "name": "stdout",
     "output_type": "stream",
     "text": [
      "The requested fruit is in stock\n"
     ]
    }
   ],
   "source": [
    "#15. Write a code to create a tuple containing three different fruits and check if \"kiwi\" is in it.\n",
    "\n",
    "Fruits = ('Apple','Orange','Kiwi')\n",
    "Desired_fruit = 'Kiwi'\n",
    "if Desired_fruit in Fruits:\n",
    "    print(\"The requested fruit is in stock\")\n",
    "else:\n",
    "    print(\"The fruit not found\")"
   ]
  },
  {
   "cell_type": "code",
   "execution_count": 41,
   "id": "73a71fbd-18ff-4f62-947b-feff021d1130",
   "metadata": {},
   "outputs": [
    {
     "name": "stdout",
     "output_type": "stream",
     "text": [
      "{'a', 'c', 'b'}\n",
      "<class 'set'>\n"
     ]
    }
   ],
   "source": [
    "#16. Write a code to create a set with the elements 'a','b','c' and print it.\n",
    "\n",
    "p = {'a','b','c'}\n",
    "print(p)\n",
    "q = type(p)\n",
    "print(q)"
   ]
  },
  {
   "cell_type": "code",
   "execution_count": 43,
   "id": "a39d5f49-23df-4ee6-b625-2d3c49947875",
   "metadata": {},
   "outputs": [
    {
     "name": "stdout",
     "output_type": "stream",
     "text": [
      "set()\n"
     ]
    }
   ],
   "source": [
    "#17. Write a code to clear all elements from the set {1,2,3,4,5}.\n",
    "\n",
    "r = {1,2,3,4,5}\n",
    "r.clear()\n",
    "print(r)"
   ]
  },
  {
   "cell_type": "code",
   "execution_count": 44,
   "id": "022904d4-46cc-4ab7-9c75-e6dcb6407dd0",
   "metadata": {},
   "outputs": [
    {
     "name": "stdout",
     "output_type": "stream",
     "text": [
      "{1, 2, 3}\n"
     ]
    }
   ],
   "source": [
    "#18. Write a code to remove the element 4 from the set {1,2,3,4}.\n",
    "\n",
    "s = {1,2,3,4}\n",
    "s.remove(4)\n",
    "print(s)"
   ]
  },
  {
   "cell_type": "code",
   "execution_count": 45,
   "id": "0c329109-a75a-4c5e-8907-f2639800ee66",
   "metadata": {},
   "outputs": [
    {
     "name": "stdout",
     "output_type": "stream",
     "text": [
      "{1, 2, 3, 4, 5}\n"
     ]
    }
   ],
   "source": [
    "#19. Write a code to find the union of two sets {1,2,3} and {3,4,5}.\n",
    "\n",
    "set1 = {1, 2, 3} \n",
    "set2 = {3, 4, 5}\n",
    "\n",
    "print(set1.union(set2))"
   ]
  },
  {
   "cell_type": "code",
   "execution_count": 47,
   "id": "2c2715cb-ba57-4b34-9454-bcd13f547908",
   "metadata": {},
   "outputs": [
    {
     "name": "stdout",
     "output_type": "stream",
     "text": [
      "{2, 3}\n"
     ]
    }
   ],
   "source": [
    "#20. Write a code to find the intersection of two sets {1,2,3} and {2,3,4}.\n",
    "\n",
    "set3 = {1,2,3}\n",
    "set4 = {2,3,4}\n",
    "\n",
    "print(set3.intersection(set4))"
   ]
  },
  {
   "cell_type": "code",
   "execution_count": 51,
   "id": "f5860ec3-1273-4248-b268-58c089db6912",
   "metadata": {},
   "outputs": [
    {
     "name": "stdout",
     "output_type": "stream",
     "text": [
      "{'name': 'Shachin Sharma', 'age': 28, 'city': 'Kolkata'}\n"
     ]
    },
    {
     "data": {
      "text/plain": [
       "dict"
      ]
     },
     "execution_count": 51,
     "metadata": {},
     "output_type": "execute_result"
    }
   ],
   "source": [
    "#21. Write a code to create a dictionary with the keys \"name\", \"age\" and \"city\", and print it.\n",
    "\n",
    "Profile = {\"name\":'Shachin Sharma',\"age\":28,\"city\":'Kolkata'}\n",
    "print(Profile)\n",
    "type(Profile)"
   ]
  },
  {
   "cell_type": "code",
   "execution_count": 52,
   "id": "f8c20376-1e85-4661-92e3-cc0904b277da",
   "metadata": {},
   "outputs": [
    {
     "name": "stdout",
     "output_type": "stream",
     "text": [
      "{'name': 'John', 'age': 25, 'country': 'USA'}\n"
     ]
    }
   ],
   "source": [
    "#22. Write a code to add a new key-value pair \"country\":\"USA\" to the dictionary {'name':'John','age':25}.\n",
    "\n",
    "directory_1 = {'name':'John','age':25}\n",
    "directory_1 [\"country\"] = \"USA\"\n",
    "print(directory_1)"
   ]
  },
  {
   "cell_type": "code",
   "execution_count": 53,
   "id": "b9fc1bad-61ab-424b-a199-1571b47414f7",
   "metadata": {},
   "outputs": [
    {
     "data": {
      "text/plain": [
       "'Alice'"
      ]
     },
     "execution_count": 53,
     "metadata": {},
     "output_type": "execute_result"
    }
   ],
   "source": [
    "#23. Write a code to access the value associated with the key \"name\" in the dictionary {'name':'Alice','age':30}.\n",
    "\n",
    "directory_2 = {'name':'Alice','age':30}\n",
    "directory_2 ['name']"
   ]
  },
  {
   "cell_type": "code",
   "execution_count": 58,
   "id": "79c6cc4d-e0db-4f1e-ab0d-74432c4a0683",
   "metadata": {},
   "outputs": [
    {
     "name": "stdout",
     "output_type": "stream",
     "text": [
      "{'name': 'Bob', 'city': 'New York'}\n"
     ]
    }
   ],
   "source": [
    "#24. Write a code to remove the key \"age' from the dictionary {'name':'Bob',age':22,'city':'New York'}.\n",
    "\n",
    "directory_3 = {'name':'Bob','age':22,'city':'New York'}\n",
    "del directory_3[\"age\"]\n",
    "print(directory_3)"
   ]
  },
  {
   "cell_type": "code",
   "execution_count": 70,
   "id": "81551444-4630-4bcf-8101-9636d49edd61",
   "metadata": {},
   "outputs": [
    {
     "name": "stdout",
     "output_type": "stream",
     "text": [
      "The key exists\n"
     ]
    }
   ],
   "source": [
    "#25. Write a code to check if the key \"city\" exists in the dictionary {'name':'Alice','city':'Paris'}.\n",
    "\n",
    "directory_4 = {'name':'Alice','city':'Paris'}\n",
    "check = 'city'\n",
    "\n",
    "if check in directory_4.keys():\n",
    "    print(\"The key exists\")\n",
    "else:\n",
    "    print(\"The key not found\")"
   ]
  },
  {
   "cell_type": "code",
   "execution_count": 71,
   "id": "e7bc2713-65a7-4ff5-a002-e0d8c006cc13",
   "metadata": {},
   "outputs": [
    {
     "name": "stdout",
     "output_type": "stream",
     "text": [
      "List: [1, 2, 3, 'apple', 'banana']\n",
      "Tuple: (10, 20, 30, 'red', 'green')\n",
      "Dictionary: {'name': 'Alice', 'age': 30, 'city': 'New York'}\n"
     ]
    }
   ],
   "source": [
    "#26. Write a code to create a list, a tuple and a dictionary, and print them all.\n",
    "\n",
    "my_list = [1, 2, 3, \"apple\", \"banana\"]\n",
    "my_tuple = (10, 20, 30, \"red\", \"green\")\n",
    "my_dictionary = {\"name\": \"Alice\", \"age\": 30, \"city\": \"New York\"}\n",
    "\n",
    "print(\"List:\", my_list)\n",
    "print(\"Tuple:\", my_tuple)\n",
    "print(\"Dictionary:\", my_dictionary)"
   ]
  },
  {
   "cell_type": "code",
   "execution_count": 78,
   "id": "5da90336-b895-4d1d-8bfe-2ced2a971635",
   "metadata": {},
   "outputs": [
    {
     "name": "stdout",
     "output_type": "stream",
     "text": [
      "[5, 20, 36, 41, 48]\n"
     ]
    }
   ],
   "source": [
    "#27. Write a code to create a list of 5 random numbers between 1 and 100, sort it in ascending order and print the result.\n",
    "\n",
    "import random\n",
    "n = 5\n",
    "random_numbers = random.sample(range(1, 101), n)\n",
    "sorted_numbers = sorted(random_numbers)\n",
    "print(sorted_numbers)"
   ]
  },
  {
   "cell_type": "code",
   "execution_count": 81,
   "id": "f1524408-ce96-4636-8a03-4d59996f95ba",
   "metadata": {},
   "outputs": [
    {
     "name": "stdout",
     "output_type": "stream",
     "text": [
      "kiwi\n"
     ]
    }
   ],
   "source": [
    "#28. Write a code to create a list with strings and print the element at the third index.\n",
    "\n",
    "list_2 = ['apple', 'banana', 'cherry', 'kiwi', 'watermelon', 'pineapple']\n",
    "output = list_2 [3]\n",
    "print(output)"
   ]
  },
  {
   "cell_type": "code",
   "execution_count": 85,
   "id": "2e5b527d-e825-4387-9627-e1fa841801ca",
   "metadata": {},
   "outputs": [
    {
     "name": "stdout",
     "output_type": "stream",
     "text": [
      "{'a': 1, 'b': 4, 'c': 3}\n"
     ]
    }
   ],
   "source": [
    "#29. Write a code to combine two dictionaries into one and print the result.\n",
    "\n",
    "dict1 = {'a': 1, 'b': 2}\n",
    "dict2 = {'c': 3, 'b': 4}\n",
    "\n",
    "merged_dict = dict1 | dict2\n",
    "print(merged_dict)"
   ]
  },
  {
   "cell_type": "code",
   "execution_count": 86,
   "id": "662cfd8e-ec33-4053-8d40-8ce2cb72349f",
   "metadata": {},
   "outputs": [
    {
     "name": "stdout",
     "output_type": "stream",
     "text": [
      "{'orange', 'apple', 'banana'}\n"
     ]
    }
   ],
   "source": [
    "#30. Write a code to convert a list of strings into a set.\n",
    "\n",
    "list_strings = [\"apple\", \"banana\", \"apple\", \"orange\"]\n",
    "set_strings = set(list_strings)\n",
    "print(set_strings)"
   ]
  }
 ],
 "metadata": {
  "kernelspec": {
   "display_name": "Python 3 (ipykernel)",
   "language": "python",
   "name": "python3"
  },
  "language_info": {
   "codemirror_mode": {
    "name": "ipython",
    "version": 3
   },
   "file_extension": ".py",
   "mimetype": "text/x-python",
   "name": "python",
   "nbconvert_exporter": "python",
   "pygments_lexer": "ipython3",
   "version": "3.13.3"
  }
 },
 "nbformat": 4,
 "nbformat_minor": 5
}
