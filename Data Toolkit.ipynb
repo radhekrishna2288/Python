{
 "cells": [
  {
   "cell_type": "code",
   "execution_count": null,
   "id": "3f2cf548-f3a6-4429-a36e-30782e6fc46f",
   "metadata": {},
   "outputs": [],
   "source": [
    "# Theoritical Questions"
   ]
  },
  {
   "cell_type": "code",
   "execution_count": null,
   "id": "d4d0c430-3af2-4cc8-99e3-a1d694d502a5",
   "metadata": {},
   "outputs": [],
   "source": [
    "'''\n",
    "\n",
    "Q1. What is NumPy, and why is it widely used in Python?\n",
    "\n",
    "NumPy is a fundamental package for scientific computing in Python. It provides support for arrays, matrices, and many \n",
    "mathematical functions to operate on these data structures. NumPy is widely used because it offers efficient storage \n",
    "and operations, making it ideal for numerical computations. It also serves as the foundation for many other scientific \n",
    "libraries in Python, such as SciPy and Pandas. \n",
    "\n",
    "\n",
    "Q2. How does broadcasting work in NumPy?\n",
    "\n",
    "Broadcasting in NumPy allows arithmetic operations on arrays of different shapes. It automatically expands the smaller \n",
    "array to match the shape of the larger array. This feature simplifies code and improves performance by avoiding the \n",
    "need for explicit loops. Broadcasting is particularly useful in mathematical operations and data manipulation tasks. \n",
    "\n",
    "\n",
    "Q3. What is a pandas DataFrame?\n",
    "\n",
    "A pandas DataFrame is a two-dimensional, size-mutable, and heterogeneous tabular data structure with labeled axes (rows \n",
    "and columns). It is similar to a spreadsheet or SQL table and is widely used for data manipulation and analysis. \n",
    "DataFrames provide a range of functionalities for data cleaning, transformation, and aggregation, making them a powerful\n",
    "tool for data scientists and analysts. \n",
    "\n",
    "\n",
    "Q4. Explain the use of the groupby() method in Pandas.\n",
    "\n",
    "The groupby() method in Pandas is used to split data into groups based on some criteria. It is often used for aggregation,\n",
    "transformation, and filtering operations on grouped data. This method is particularly useful for summarizing data and \n",
    "performing complex analyses on subsets of data. \n",
    "\n",
    "\n",
    "Q5. Why is Seaborn preferred for statistical visualizations?\n",
    "\n",
    "Seaborn is preferred for statistical visualizations because it provides a high-level interface for drawing attractive\n",
    "and informative statistical graphics. It is built on top of Matplotlib and integrates well with Pandas data structures. \n",
    "Seaborn simplifies the process of creating complex visualizations and offers a variety of plot types that are useful for\n",
    "statistical analysis. \n",
    "\n",
    "\n",
    "Q6. What are the differences between NumPy arrays and Python lists?\n",
    "\n",
    "NumPy arrays are more efficient for numerical computations and provide more functionality for mathematical operations \n",
    "compared to Python lists. Arrays are fixed in size and support element-wise operations, while lists are more flexible \n",
    "and can store different data types. NumPy arrays also offer better performance due to their contiguous memory allocation\n",
    "and optimized C-based implementation. \n",
    "\n",
    "\n",
    "Q7. What is a heatmap, and when should it be used?\n",
    "\n",
    "A heatmap is a graphical representation of data where individual values are represented as colors. It is used to visualize\n",
    "the magnitude of values in a matrix and is useful for identifying patterns, correlations, and outliers. Heatmaps are commonly \n",
    "used in fields such as bioinformatics, finance, and machine learning to display complex data relationships. \n",
    "\n",
    "\n",
    "Q8. What does the term \"vectorized operation\" mean in NumPy?\n",
    "\n",
    "Vectorized operations in NumPy refer to performing element-wise operations on arrays without explicit loops. This leads to \n",
    "more concise and faster code. Vectorized operations leverage NumPy's optimized C-based implementation, resulting in \n",
    "significant performance improvements for large datasets. \n",
    "\n",
    "\n",
    "Q9. How does Matplotlib differ from Plotly?\n",
    "\n",
    "Matplotlib is a static plotting library, while Plotly is an interactive plotting library. Matplotlib is suitable for creating\n",
    "static, publication-quality plots, whereas Plotly is ideal for creating interactive visualizations that can be embedded in web\n",
    "applications. Plotly offers features like zooming, panning, and tooltips, making it more suitable for exploratory data \n",
    "analysis. \n",
    "\n",
    "\n",
    "Q10. What is the significance of hierarchical indexing in Pandas?\n",
    "\n",
    "Hierarchical indexing in Pandas allows for multiple levels of indexing on an axis, enabling more complex data structures and \n",
    "easier data manipulation. It is useful for working with high-dimensional data in a lower-dimensional form. Hierarchical indexing\n",
    "simplifies data analysis tasks such as slicing, dicing, and aggregating data across multiple dimensions. \n",
    "\n",
    "\n",
    "Q11. What is the role of Seaborn's pairplot() function?\n",
    "\n",
    "Seaborn's pairplot() function creates a matrix of scatter plots for each pair of variables in a dataset. It is useful for \n",
    "visualizing relationships between multiple variables and identifying patterns or correlations. The pairplot() function also \n",
    "supports different plot types for the diagonal and off-diagonal elements, providing a comprehensive view of the data.\n",
    "\n",
    "\n",
    "Q12. What is the purpose of the describe() function in pandas?\n",
    "\n",
    "The describe() function in pandas provides summary statistics of a DataFrame's numerical columns, including count, mean, \n",
    "standard deviation, min, and max values. It is useful for getting a quick overview of the data and identifying potential \n",
    "issues such as outliers or missing values. The describe() function can also be used with categorical data by specifying the\n",
    "include parameter. \n",
    "\n",
    "\n",
    "Q13. Why is handling missing data important in pandas?\n",
    "\n",
    "Handling missing data is important in pandas because missing values can lead to inaccurate analysis and results. Proper \n",
    "handling ensures data integrity and improves the quality of insights derived from the data. Pandas provides various methods\n",
    "for handling missing data, such as filling with default values, forward/backward filling, and interpolation. \n",
    "\n",
    "\n",
    "Q14. What are the benefits of using Plotly for data visualization?\n",
    "\n",
    "Plotly offers interactive and visually appealing plots that can be easily embedded in web applications. It supports a wide\n",
    "range of chart types and provides tools for exploring data interactively. Plotly's interactivity features, such as zooming,\n",
    "panning, and tooltips, make it ideal for exploratory data analysis and presentations. Additionally, Plotly integrates well \n",
    "with other libraries like Dash for building interactive web applications. \n",
    "\n",
    "\n",
    "Q15. How does NumPy handle multidimensional arrays?\n",
    "\n",
    "NumPy handles multidimensional arrays using the ndarray object, which allows for efficient storage and manipulation of data \n",
    "in multiple dimensions. It supports various operations like slicing, reshaping, and broadcasting. NumPy's multidimensional \n",
    "arrays are essential for scientific computing tasks, such as linear algebra, Fourier transforms, and random number generation. \n",
    "\n",
    "\n",
    "Q16. What is the role of Bokeh in data visualization?\n",
    "\n",
    "Bokeh is a Python library for creating interactive and scalable visualizations for web applications. It provides tools for \n",
    "building complex plots and dashboards with high performance. Bokeh's interactivity features, such as zooming, panning, and \n",
    "tooltips, make it suitable for exploratory data analysis and presentations. Bokeh also supports integration with other \n",
    "libraries like Flask and Django for building interactive web applications. \n",
    "\n",
    "\n",
    "Q17. Explain the difference between apply() and map() in Pandas.\n",
    "\n",
    "The apply() function in Pandas is used to apply a function along an axis of the DataFrame, while map() is used to apply a \n",
    "function element-wise on a Series. apply() is more flexible and can be used with DataFrames, whereas map() is limited to Series\n",
    ". apply() can also be used for more complex operations, such as applying functions to rows or columns, while map() is typically\n",
    "used for simple element-wise transformations. \n",
    "\n",
    "\n",
    "Q18. What are some advanced features of NumPy?\n",
    "\n",
    "Some advanced features of NumPy include broadcasting, vectorized operations, linear algebra functions, random number generation,\n",
    "and support for multidimensional arrays. These features make NumPy a powerful tool for scientific computing. NumPy also provides\n",
    "tools for integrating with other libraries, such as SciPy and Pandas, and supports various file formats for data storage and \n",
    "retrieval. \n",
    "\n",
    "\n",
    "Q19. How does Pandas simplify time series analysis?\n",
    "\n",
    "Pandas simplifies time series analysis by providing tools for date and time manipulation, resampling, and rolling window \n",
    "calculations. It supports time-based indexing and offers various methods for handling time series data. Pandas also provides\n",
    "functions for generating date ranges, shifting data, and calculating moving averages, making it a powerful tool for time series\n",
    "analysis. \n",
    "\n",
    "\n",
    "Q20. What is the role of a pivot table in Pandas?\n",
    "\n",
    "A pivot table in Pandas is used to summarize data by aggregating values based on one or more keys. It allows for flexible data\n",
    "analysis and is useful for generating reports and insights. Pivot tables support various aggregation functions, such as sum, mean,\n",
    "and count, and can be used to reshape data for easier analysis. \n",
    "\n",
    "\n",
    "Q21. Why is NumPy's array slicing faster than Python's list slicing?\n",
    "\n",
    "NumPy's array slicing is faster than Python's list slicing because NumPy arrays are stored in contiguous memory blocks, allowing\n",
    "for efficient access and manipulation. Additionally, NumPy operations are implemented in C, providing further performance \n",
    "improvements. The optimized memory layout and low-level implementation of NumPy arrays result in faster slicing and indexing\n",
    "operations compared to Python lists. \n",
    "\n",
    "\n",
    "Q22. What are some common use cases for Seaborn?\n",
    "\n",
    "Common use cases for Seaborn include visualizing distributions, relationships, and categorical data. It is often used for \n",
    "creating histograms, scatter plots, box plots, and heatmaps. Seaborn's high-level interface and integration with Pandas make\n",
    "it a popular choice for data visualization tasks in data science and machine learning projects. \n",
    "\n",
    "\n",
    "'''"
   ]
  },
  {
   "cell_type": "code",
   "execution_count": null,
   "id": "dbe77fd8-f686-46b0-8047-7c1ace682ceb",
   "metadata": {},
   "outputs": [],
   "source": [
    "#Practical Questions"
   ]
  },
  {
   "cell_type": "code",
   "execution_count": 1,
   "id": "fb51cf44-442a-4b19-a9cc-24631591531d",
   "metadata": {},
   "outputs": [
    {
     "name": "stdout",
     "output_type": "stream",
     "text": [
      "Original Array:\n",
      " [[1 2 3]\n",
      " [4 5 6]\n",
      " [7 8 9]]\n",
      "Sum of each row: [ 6 15 24]\n"
     ]
    }
   ],
   "source": [
    "# Q1. How do you create a 2D NumPy array and calculate the sum of each row?\n",
    "\n",
    "import numpy as np\n",
    "array_2d = np.array([[1, 2, 3], [4, 5, 6], [7, 8, 9]])\n",
    "print(\"Original Array:\\n\", array_2d)\n",
    "\n",
    "row_sums = np.sum(array_2d, axis=1)\n",
    "print(\"Sum of each row:\", row_sums)"
   ]
  },
  {
   "cell_type": "code",
   "execution_count": 1,
   "id": "4076da0c-7dea-4399-8e75-32feccbe9b1b",
   "metadata": {},
   "outputs": [
    {
     "name": "stdout",
     "output_type": "stream",
     "text": [
      "DataFrame:\n",
      "   col1  col2  col3\n",
      "0     1     6    11\n",
      "1     2     7    12\n",
      "2     3     8    13\n",
      "3     4     9    14\n",
      "4     5    10    15\n",
      "\n",
      "Mean of the 'col2' column:\n",
      "8.0\n"
     ]
    }
   ],
   "source": [
    "# Q2. Write a pandas script to find the mean of a specific column in a DataFrame.\n",
    "\n",
    "import pandas as pd\n",
    "\n",
    "data = {'col1': [1, 2, 3, 4, 5],\n",
    "        'col2': [6, 7, 8, 9, 10],\n",
    "        'col3': [11, 12, 13, 14, 15]}\n",
    "df = pd.DataFrame(data)\n",
    "\n",
    "mean_col2 = df['col2'].mean()\n",
    "\n",
    "print(\"DataFrame:\")\n",
    "print(df)\n",
    "print(\"\\nMean of the 'col2' column:\")\n",
    "print(mean_col2)"
   ]
  },
  {
   "cell_type": "code",
   "execution_count": 1,
   "id": "52d42866-84b3-4d62-8659-b6abeb59aedc",
   "metadata": {},
   "outputs": [
    {
     "name": "stderr",
     "output_type": "stream",
     "text": [
      "Matplotlib is building the font cache; this may take a moment.\n"
     ]
    },
    {
     "data": {
      "image/png": "[encoded data removed]",
      "text/plain": [
       "<Figure size 640x480 with 1 Axes>"
      ]
     },
     "metadata": {},
     "output_type": "display_data"
    }
   ],
   "source": [
    "# Q3. Create a scatter plot using Matplotlib.\n",
    "\n",
    "import matplotlib.pyplot as plt\n",
    "\n",
    "x = [1, 2, 3, 4, 5]\n",
    "y = [2, 4, 1, 5, 3]\n",
    "\n",
    "plt.scatter(x, y)\n",
    "\n",
    "plt.xlabel(\"X-axis\")\n",
    "plt.ylabel(\"Y-axis\")\n",
    "plt.title(\"Scatter Plot using Matplotlib\")\n",
    "\n",
    "plt.show()"
   ]
  },
  {
   "cell_type": "code",
   "execution_count": 2,
   "id": "2bfbf533-7caa-4953-a264-c06f3474b2e4",
   "metadata": {},
   "outputs": [
    {
     "data": {
      "image/png": "[encoded data removed]",
      "text/plain": [
       "<Figure size 800x600 with 2 Axes>"
      ]
     },
     "metadata": {},
     "output_type": "display_data"
    }
   ],
   "source": [
    "#Q4. How do you calculate the correlation matrix using Seaborn and visualize it with a heatmap?\n",
    "\n",
    "import pandas as pd\n",
    "import seaborn as sns\n",
    "import matplotlib.pyplot as plt\n",
    "\n",
    "data = {'A': [1, 2, 3, 4, 5],'B': [5, 4, 3, 2, 1], 'C': [2, 3, 4, 5, 6],'D': [5, 6, 7, 8, 9]}\n",
    "df = pd.DataFrame(data)\n",
    "\n",
    "corr_matrix = df.corr()\n",
    "\n",
    "plt.figure(figsize=(8, 6))\n",
    "sns.heatmap(corr_matrix, annot=True, cmap='coolwarm', linewidths=0.5)\n",
    "plt.title('Correlation Matrix Heatmap')\n",
    "plt.show()"
   ]
  },
  {
   "cell_type": "code",
   "execution_count": 3,
   "id": "83b510ac-d13d-449d-a742-02bba3b76dad",
   "metadata": {},
   "outputs": [
    {
     "data": {
      "application/vnd.plotly.v1+json": {
       "config": {
        "plotlyServerURL": "https://plot.ly"
       },
       "data": [
        {
         "type": "bar",
         "x": [
          "A",
          "B",
          "C",
          "D",
          "E"
         ],
         "y": {
          "bdata": "DxkKHhQ=",
          "dtype": "i1"
         }
        }
       ],
       "layout": {
        "template": {
         "data": {
          "bar": [
           {
            "error_x": {
             "color": "#2a3f5f"
            },
            "error_y": {
             "color": "#2a3f5f"
            },
            "marker": {
             "line": {
              "color": "#E5ECF6",
              "width": 0.5
             },
             "pattern": {
              "fillmode": "overlay",
              "size": 10,
              "solidity": 0.2
             }
            },
            "type": "bar"
           }
          ],
          "barpolar": [
           {
            "marker": {
             "line": {
              "color": "#E5ECF6",
              "width": 0.5
             },
             "pattern": {
              "fillmode": "overlay",
              "size": 10,
              "solidity": 0.2
             }
            },
            "type": "barpolar"
           }
          ],
          "carpet": [
           {
            "aaxis": {
             "endlinecolor": "#2a3f5f",
             "gridcolor": "white",
             "linecolor": "white",
             "minorgridcolor": "white",
             "startlinecolor": "#2a3f5f"
            },
            "baxis": {
             "endlinecolor": "#2a3f5f",
             "gridcolor": "white",
             "linecolor": "white",
             "minorgridcolor": "white",
             "startlinecolor": "#2a3f5f"
            },
            "type": "carpet"
           }
          ],
          "choropleth": [
           {
            "colorbar": {
             "outlinewidth": 0,
             "ticks": ""
            },
            "type": "choropleth"
           }
          ],
          "contour": [
           {
            "colorbar": {
             "outlinewidth": 0,
             "ticks": ""
            },
            "colorscale": [
             [
              0,
              "#0d0887"
             ],
             [
              0.1111111111111111,
              "#46039f"
             ],
             [
              0.2222222222222222,
              "#7201a8"
             ],
             [
              0.3333333333333333,
              "#9c179e"
             ],
             [
              0.4444444444444444,
              "#bd3786"
             ],
             [
              0.5555555555555556,
              "#d8576b"
             ],
             [
              0.6666666666666666,
              "#ed7953"
             ],
             [
              0.7777777777777778,
              "#fb9f3a"
             ],
             [
              0.8888888888888888,
              "#fdca26"
             ],
             [
              1,
              "#f0f921"
             ]
            ],
            "type": "contour"
           }
          ],
          "contourcarpet": [
           {
            "colorbar": {
             "outlinewidth": 0,
             "ticks": ""
            },
            "type": "contourcarpet"
           }
          ],
          "heatmap": [
           {
            "colorbar": {
             "outlinewidth": 0,
             "ticks": ""
            },
            "colorscale": [
             [
              0,
              "#0d0887"
             ],
             [
              0.1111111111111111,
              "#46039f"
             ],
             [
              0.2222222222222222,
              "#7201a8"
             ],
             [
              0.3333333333333333,
              "#9c179e"
             ],
             [
              0.4444444444444444,
              "#bd3786"
             ],
             [
              0.5555555555555556,
              "#d8576b"
             ],
             [
              0.6666666666666666,
              "#ed7953"
             ],
             [
              0.7777777777777778,
              "#fb9f3a"
             ],
             [
              0.8888888888888888,
              "#fdca26"
             ],
             [
              1,
              "#f0f921"
             ]
            ],
            "type": "heatmap"
           }
          ],
          "histogram": [
           {
            "marker": {
             "pattern": {
              "fillmode": "overlay",
              "size": 10,
              "solidity": 0.2
             }
            },
            "type": "histogram"
           }
          ],
          "histogram2d": [
           {
            "colorbar": {
             "outlinewidth": 0,
             "ticks": ""
            },
            "colorscale": [
             [
              0,
              "#0d0887"
             ],
             [
              0.1111111111111111,
              "#46039f"
             ],
             [
              0.2222222222222222,
              "#7201a8"
             ],
             [
              0.3333333333333333,
              "#9c179e"
             ],
             [
              0.4444444444444444,
              "#bd3786"
             ],
             [
              0.5555555555555556,
              "#d8576b"
             ],
             [
              0.6666666666666666,
              "#ed7953"
             ],
             [
              0.7777777777777778,
              "#fb9f3a"
             ],
             [
              0.8888888888888888,
              "#fdca26"
             ],
             [
              1,
              "#f0f921"
             ]
            ],
            "type": "histogram2d"
           }
          ],
          "histogram2dcontour": [
           {
            "colorbar": {
             "outlinewidth": 0,
             "ticks": ""
            },
            "colorscale": [
             [
              0,
              "#0d0887"
             ],
             [
              0.1111111111111111,
              "#46039f"
             ],
             [
              0.2222222222222222,
              "#7201a8"
             ],
             [
              0.3333333333333333,
              "#9c179e"
             ],
             [
              0.4444444444444444,
              "#bd3786"
             ],
             [
              0.5555555555555556,
              "#d8576b"
             ],
             [
              0.6666666666666666,
              "#ed7953"
             ],
             [
              0.7777777777777778,
              "#fb9f3a"
             ],
             [
              0.8888888888888888,
              "#fdca26"
             ],
             [
              1,
              "#f0f921"
             ]
            ],
            "type": "histogram2dcontour"
           }
          ],
          "mesh3d": [
           {
            "colorbar": {
             "outlinewidth": 0,
             "ticks": ""
            },
            "type": "mesh3d"
           }
          ],
          "parcoords": [
           {
            "line": {
             "colorbar": {
              "outlinewidth": 0,
              "ticks": ""
             }
            },
            "type": "parcoords"
           }
          ],
          "pie": [
           {
            "automargin": true,
            "type": "pie"
           }
          ],
          "scatter": [
           {
            "fillpattern": {
             "fillmode": "overlay",
             "size": 10,
             "solidity": 0.2
            },
            "type": "scatter"
           }
          ],
          "scatter3d": [
           {
            "line": {
             "colorbar": {
              "outlinewidth": 0,
              "ticks": ""
             }
            },
            "marker": {
             "colorbar": {
              "outlinewidth": 0,
              "ticks": ""
             }
            },
            "type": "scatter3d"
           }
          ],
          "scattercarpet": [
           {
            "marker": {
             "colorbar": {
              "outlinewidth": 0,
              "ticks": ""
             }
            },
            "type": "scattercarpet"
           }
          ],
          "scattergeo": [
           {
            "marker": {
             "colorbar": {
              "outlinewidth": 0,
              "ticks": ""
             }
            },
            "type": "scattergeo"
           }
          ],
          "scattergl": [
           {
            "marker": {
             "colorbar": {
              "outlinewidth": 0,
              "ticks": ""
             }
            },
            "type": "scattergl"
           }
          ],
          "scattermap": [
           {
            "marker": {
             "colorbar": {
              "outlinewidth": 0,
              "ticks": ""
             }
            },
            "type": "scattermap"
           }
          ],
          "scattermapbox": [
           {
            "marker": {
             "colorbar": {
              "outlinewidth": 0,
              "ticks": ""
             }
            },
            "type": "scattermapbox"
           }
          ],
          "scatterpolar": [
           {
            "marker": {
             "colorbar": {
              "outlinewidth": 0,
              "ticks": ""
             }
            },
            "type": "scatterpolar"
           }
          ],
          "scatterpolargl": [
           {
            "marker": {
             "colorbar": {
              "outlinewidth": 0,
              "ticks": ""
             }
            },
            "type": "scatterpolargl"
           }
          ],
          "scatterternary": [
           {
            "marker": {
             "colorbar": {
              "outlinewidth": 0,
              "ticks": ""
             }
            },
            "type": "scatterternary"
           }
          ],
          "surface": [
           {
            "colorbar": {
             "outlinewidth": 0,
             "ticks": ""
            },
            "colorscale": [
             [
              0,
              "#0d0887"
             ],
             [
              0.1111111111111111,
              "#46039f"
             ],
             [
              0.2222222222222222,
              "#7201a8"
             ],
             [
              0.3333333333333333,
              "#9c179e"
             ],
             [
              0.4444444444444444,
              "#bd3786"
             ],
             [
              0.5555555555555556,
              "#d8576b"
             ],
             [
              0.6666666666666666,
              "#ed7953"
             ],
             [
              0.7777777777777778,
              "#fb9f3a"
             ],
             [
              0.8888888888888888,
              "#fdca26"
             ],
             [
              1,
              "#f0f921"
             ]
            ],
            "type": "surface"
           }
          ],
          "table": [
           {
            "cells": {
             "fill": {
              "color": "#EBF0F8"
             },
             "line": {
              "color": "white"
             }
            },
            "header": {
             "fill": {
              "color": "#C8D4E3"
             },
             "line": {
              "color": "white"
             }
            },
            "type": "table"
           }
          ]
         },
         "layout": {
          "annotationdefaults": {
           "arrowcolor": "#2a3f5f",
           "arrowhead": 0,
           "arrowwidth": 1
          },
          "autotypenumbers": "strict",
          "coloraxis": {
           "colorbar": {
            "outlinewidth": 0,
            "ticks": ""
           }
          },
          "colorscale": {
           "diverging": [
            [
             0,
             "#8e0152"
            ],
            [
             0.1,
             "#c51b7d"
            ],
            [
             0.2,
             "#de77ae"
            ],
            [
             0.3,
             "#f1b6da"
            ],
            [
             0.4,
             "#fde0ef"
            ],
            [
             0.5,
             "#f7f7f7"
            ],
            [
             0.6,
             "#e6f5d0"
            ],
            [
             0.7,
             "#b8e186"
            ],
            [
             0.8,
             "#7fbc41"
            ],
            [
             0.9,
             "#4d9221"
            ],
            [
             1,
             "#276419"
            ]
           ],
           "sequential": [
            [
             0,
             "#0d0887"
            ],
            [
             0.1111111111111111,
             "#46039f"
            ],
            [
             0.2222222222222222,
             "#7201a8"
            ],
            [
             0.3333333333333333,
             "#9c179e"
            ],
            [
             0.4444444444444444,
             "#bd3786"
            ],
            [
             0.5555555555555556,
             "#d8576b"
            ],
            [
             0.6666666666666666,
             "#ed7953"
            ],
            [
             0.7777777777777778,
             "#fb9f3a"
            ],
            [
             0.8888888888888888,
             "#fdca26"
            ],
            [
             1,
             "#f0f921"
            ]
           ],
           "sequentialminus": [
            [
             0,
             "#0d0887"
            ],
            [
             0.1111111111111111,
             "#46039f"
            ],
            [
             0.2222222222222222,
             "#7201a8"
            ],
            [
             0.3333333333333333,
             "#9c179e"
            ],
            [
             0.4444444444444444,
             "#bd3786"
            ],
            [
             0.5555555555555556,
             "#d8576b"
            ],
            [
             0.6666666666666666,
             "#ed7953"
            ],
            [
             0.7777777777777778,
             "#fb9f3a"
            ],
            [
             0.8888888888888888,
             "#fdca26"
            ],
            [
             1,
             "#f0f921"
            ]
           ]
          },
          "colorway": [
           "#636efa",
           "#EF553B",
           "#00cc96",
           "#ab63fa",
           "#FFA15A",
           "#19d3f3",
           "#FF6692",
           "#B6E880",
           "#FF97FF",
           "#FECB52"
          ],
          "font": {
           "color": "#2a3f5f"
          },
          "geo": {
           "bgcolor": "white",
           "lakecolor": "white",
           "landcolor": "#E5ECF6",
           "showlakes": true,
           "showland": true,
           "subunitcolor": "white"
          },
          "hoverlabel": {
           "align": "left"
          },
          "hovermode": "closest",
          "mapbox": {
           "style": "light"
          },
          "paper_bgcolor": "white",
          "plot_bgcolor": "#E5ECF6",
          "polar": {
           "angularaxis": {
            "gridcolor": "white",
            "linecolor": "white",
            "ticks": ""
           },
           "bgcolor": "#E5ECF6",
           "radialaxis": {
            "gridcolor": "white",
            "linecolor": "white",
            "ticks": ""
           }
          },
          "scene": {
           "xaxis": {
            "backgroundcolor": "#E5ECF6",
            "gridcolor": "white",
            "gridwidth": 2,
            "linecolor": "white",
            "showbackground": true,
            "ticks": "",
            "zerolinecolor": "white"
           },
           "yaxis": {
            "backgroundcolor": "#E5ECF6",
            "gridcolor": "white",
            "gridwidth": 2,
            "linecolor": "white",
            "showbackground": true,
            "ticks": "",
            "zerolinecolor": "white"
           },
           "zaxis": {
            "backgroundcolor": "#E5ECF6",
            "gridcolor": "white",
            "gridwidth": 2,
            "linecolor": "white",
            "showbackground": true,
            "ticks": "",
            "zerolinecolor": "white"
           }
          },
          "shapedefaults": {
           "line": {
            "color": "#2a3f5f"
           }
          },
          "ternary": {
           "aaxis": {
            "gridcolor": "white",
            "linecolor": "white",
            "ticks": ""
           },
           "baxis": {
            "gridcolor": "white",
            "linecolor": "white",
            "ticks": ""
           },
           "bgcolor": "#E5ECF6",
           "caxis": {
            "gridcolor": "white",
            "linecolor": "white",
            "ticks": ""
           }
          },
          "title": {
           "x": 0.05
          },
          "xaxis": {
           "automargin": true,
           "gridcolor": "white",
           "linecolor": "white",
           "ticks": "",
           "title": {
            "standoff": 15
           },
           "zerolinecolor": "white",
           "zerolinewidth": 2
          },
          "yaxis": {
           "automargin": true,
           "gridcolor": "white",
           "linecolor": "white",
           "ticks": "",
           "title": {
            "standoff": 15
           },
           "zerolinecolor": "white",
           "zerolinewidth": 2
          }
         }
        },
        "title": {
         "text": "Bar Plot using Plotly"
        },
        "xaxis": {
         "title": {
          "text": "Category"
         }
        },
        "yaxis": {
         "title": {
          "text": "Values"
         }
        }
       }
      },
      "image/png": "[encoded data removed]"
     },
     "metadata": {},
     "output_type": "display_data"
    }
   ],
   "source": [
    "# Q5. Generate a bar plot using Plotly.\n",
    "\n",
    "import plotly.graph_objects as go\n",
    "import pandas as pd\n",
    "\n",
    "data = {'Category': ['A', 'B', 'C', 'D', 'E'],\n",
    "        'Values': [15, 25, 10, 30, 20]}\n",
    "df = pd.DataFrame(data)\n",
    "\n",
    "fig = go.Figure(data=[go.Bar(x=df['Category'], y=df['Values'])])\n",
    "\n",
    "fig.update_layout(title='Bar Plot using Plotly',\n",
    "                  xaxis_title='Category',\n",
    "                  yaxis_title='Values')\n",
    "\n",
    "fig.show()"
   ]
  },
  {
   "cell_type": "code",
   "execution_count": 4,
   "id": "f27693f4-29f2-49e5-bddb-2af7f23de056",
   "metadata": {},
   "outputs": [
    {
     "data": {
      "text/html": [
       "<div>\n",
       "<style scoped>\n",
       "    .dataframe tbody tr th:only-of-type {\n",
       "        vertical-align: middle;\n",
       "    }\n",
       "\n",
       "    .dataframe tbody tr th {\n",
       "        vertical-align: top;\n",
       "    }\n",
       "\n",
       "    .dataframe thead th {\n",
       "        text-align: right;\n",
       "    }\n",
       "</style>\n",
       "<table border=\"1\" class=\"dataframe\">\n",
       "  <thead>\n",
       "    <tr style=\"text-align: right;\">\n",
       "      <th></th>\n",
       "      <th>col1</th>\n",
       "      <th>col2</th>\n",
       "      <th>New column</th>\n",
       "    </tr>\n",
       "  </thead>\n",
       "  <tbody>\n",
       "    <tr>\n",
       "      <th>0</th>\n",
       "      <td>1</td>\n",
       "      <td>10</td>\n",
       "      <td>20</td>\n",
       "    </tr>\n",
       "    <tr>\n",
       "      <th>1</th>\n",
       "      <td>2</td>\n",
       "      <td>20</td>\n",
       "      <td>40</td>\n",
       "    </tr>\n",
       "    <tr>\n",
       "      <th>2</th>\n",
       "      <td>3</td>\n",
       "      <td>30</td>\n",
       "      <td>60</td>\n",
       "    </tr>\n",
       "    <tr>\n",
       "      <th>3</th>\n",
       "      <td>4</td>\n",
       "      <td>40</td>\n",
       "      <td>80</td>\n",
       "    </tr>\n",
       "    <tr>\n",
       "      <th>4</th>\n",
       "      <td>5</td>\n",
       "      <td>50</td>\n",
       "      <td>100</td>\n",
       "    </tr>\n",
       "  </tbody>\n",
       "</table>\n",
       "</div>"
      ],
      "text/plain": [
       "   col1  col2  New column\n",
       "0     1    10          20\n",
       "1     2    20          40\n",
       "2     3    30          60\n",
       "3     4    40          80\n",
       "4     5    50         100"
      ]
     },
     "execution_count": 4,
     "metadata": {},
     "output_type": "execute_result"
    }
   ],
   "source": [
    "#Q6. Create a DataFrame and add a new column based on an existing column.\n",
    "\n",
    "import pandas as pd\n",
    "\n",
    "data = {'col1': [1, 2, 3, 4, 5], 'col2': [10, 20, 30, 40, 50]}\n",
    "df = pd.DataFrame(data)\n",
    "\n",
    "df['New column'] = df['col2'] * 2\n",
    "\n",
    "df"
   ]
  },
  {
   "cell_type": "code",
   "execution_count": 5,
   "id": "fdcea37e-d842-460c-8d8d-9df52bdf76b6",
   "metadata": {},
   "outputs": [
    {
     "data": {
      "text/plain": [
       "array([ 6, 14, 24, 36, 50])"
      ]
     },
     "execution_count": 5,
     "metadata": {},
     "output_type": "execute_result"
    }
   ],
   "source": [
    "#Q7. Write a program to perform element-wise multiplication of two NumPy arrays.\n",
    "\n",
    "import numpy as np\n",
    "\n",
    "array1 = np.array([1, 2, 3, 4, 5])\n",
    "array2 = np.array([6, 7, 8, 9, 10])\n",
    "\n",
    "result_array = array1 * array2\n",
    "\n",
    "result_array"
   ]
  },
  {
   "cell_type": "code",
   "execution_count": 6,
   "id": "94cf5eb4-942e-4d2c-90d5-a4df96687e4d",
   "metadata": {},
   "outputs": [
    {
     "data": {
      "image/png": "[encoded data removed]",
      "text/plain": [
       "<Figure size 640x480 with 1 Axes>"
      ]
     },
     "metadata": {},
     "output_type": "display_data"
    }
   ],
   "source": [
    "#Q8. Create a line plot with multiple lines using Matplotlib.\n",
    "\n",
    "import matplotlib.pyplot as plt\n",
    "\n",
    "x1 = [1, 2, 3, 4, 5]\n",
    "y1 = [10, 12, 14, 16, 18]\n",
    "\n",
    "x2 = [1, 2, 3, 4, 5]\n",
    "y2 = [15, 17, 19, 21, 23]\n",
    "\n",
    "x3 = [1, 2, 3, 4, 5]\n",
    "y3 = [20, 22, 24, 26, 28]\n",
    "\n",
    "#just rearranged to make a tricolor\n",
    "plt.plot(x2, y2, label='Line 2')\n",
    "plt.plot(x3, y3, label='Line 3')\n",
    "plt.plot(x1, y1, label='Line 1')\n",
    "\n",
    "plt.title('Multiple Line Plot using Matplotlib')\n",
    "plt.xlabel('X-axis')\n",
    "plt.ylabel('Y-axis')\n",
    "\n",
    "plt.legend()\n",
    "\n",
    "plt.show()"
   ]
  },
  {
   "cell_type": "code",
   "execution_count": 7,
   "id": "446539f1-048c-40a9-b92f-fdb637422cec",
   "metadata": {},
   "outputs": [
    {
     "data": {
      "text/html": [
       "<div>\n",
       "<style scoped>\n",
       "    .dataframe tbody tr th:only-of-type {\n",
       "        vertical-align: middle;\n",
       "    }\n",
       "\n",
       "    .dataframe tbody tr th {\n",
       "        vertical-align: top;\n",
       "    }\n",
       "\n",
       "    .dataframe thead th {\n",
       "        text-align: right;\n",
       "    }\n",
       "</style>\n",
       "<table border=\"1\" class=\"dataframe\">\n",
       "  <thead>\n",
       "    <tr style=\"text-align: right;\">\n",
       "      <th></th>\n",
       "      <th>col1</th>\n",
       "      <th>col2</th>\n",
       "      <th>col3</th>\n",
       "    </tr>\n",
       "  </thead>\n",
       "  <tbody>\n",
       "    <tr>\n",
       "      <th>2</th>\n",
       "      <td>3</td>\n",
       "      <td>8</td>\n",
       "      <td>13</td>\n",
       "    </tr>\n",
       "    <tr>\n",
       "      <th>3</th>\n",
       "      <td>4</td>\n",
       "      <td>9</td>\n",
       "      <td>14</td>\n",
       "    </tr>\n",
       "    <tr>\n",
       "      <th>4</th>\n",
       "      <td>5</td>\n",
       "      <td>10</td>\n",
       "      <td>15</td>\n",
       "    </tr>\n",
       "  </tbody>\n",
       "</table>\n",
       "</div>"
      ],
      "text/plain": [
       "   col1  col2  col3\n",
       "2     3     8    13\n",
       "3     4     9    14\n",
       "4     5    10    15"
      ]
     },
     "execution_count": 7,
     "metadata": {},
     "output_type": "execute_result"
    }
   ],
   "source": [
    "#Q9. Generate a pandas DataFrame and filter rows where a column value is greater than a threshold.\n",
    "\n",
    "import pandas as pd\n",
    "\n",
    "data = {'col1': [1, 2, 3, 4, 5],\n",
    "        'col2': [6, 7, 8, 9, 10],\n",
    "        'col3': [11, 12, 13, 14, 15]}\n",
    "df = pd.DataFrame(data)\n",
    "\n",
    "threshold = 7\n",
    "\n",
    "filtered_df = df[df['col2'] > threshold]\n",
    "\n",
    "filtered_df"
   ]
  },
  {
   "cell_type": "code",
   "execution_count": 8,
   "id": "6a07203a-7910-497c-92af-7da2220e5065",
   "metadata": {},
   "outputs": [
    {
     "data": {
      "image/png": "[encoded data removed]",
      "text/plain": [
       "<Figure size 800x600 with 1 Axes>"
      ]
     },
     "metadata": {},
     "output_type": "display_data"
    }
   ],
   "source": [
    "# Q10. Create a histogram using Seaborn to visualize a distribution.\n",
    "\n",
    "import matplotlib.pyplot as plt\n",
    "import seaborn as sns\n",
    "\n",
    "data = [1, 2, 2, 3, 3, 3, 4, 4, 5]\n",
    "\n",
    "plt.figure(figsize=(8, 6))\n",
    "sns.histplot(data, kde=True)\n",
    "\n",
    "plt.title(\"Histogram using Seaborn to visualize a distribution\")\n",
    "plt.xlabel(\"Value\")\n",
    "plt.ylabel(\"Frequency\")\n",
    "\n",
    "plt.show()"
   ]
  },
  {
   "cell_type": "code",
   "execution_count": 9,
   "id": "5e205b76-04cf-46fa-b5c7-fcf4eeda4e55",
   "metadata": {},
   "outputs": [
    {
     "data": {
      "text/plain": [
       "array([[19, 22],\n",
       "       [43, 50]])"
      ]
     },
     "execution_count": 9,
     "metadata": {},
     "output_type": "execute_result"
    }
   ],
   "source": [
    "# Q11. Perform matrix multiplication using NumPy.\n",
    "\n",
    "import numpy as np\n",
    "\n",
    "matrix1 = np.array([[1, 2], [3, 4]])\n",
    "matrix2 = np.array([[5, 6], [7, 8]])\n",
    "\n",
    "result_matrix = np.dot(matrix1, matrix2)\n",
    "\n",
    "result_matrix"
   ]
  },
  {
   "cell_type": "code",
   "execution_count": 3,
   "id": "9bea4ea7-0537-401c-82df-c777e6fb54aa",
   "metadata": {},
   "outputs": [
    {
     "name": "stdout",
     "output_type": "stream",
     "text": [
      "       Customer Id First Name Last Name                          Company\n",
      "0  DD37Cf93aecA6Dc     Sheryl    Baxter                  Rasmussen Group\n",
      "1  1Ef7b82A4CAAD10    Preston    Lozano                      Vega-Gentry\n",
      "2  6F94879bDAfE5a6        Roy     Berry                    Murillo-Perry\n",
      "3  5Cef8BFA16c5e3c      Linda     Olsen  Dominguez, Mcmillan and Donovan\n",
      "4  053d585Ab6b3159     Joanna    Bender         Martin, Lang and Andrade\n"
     ]
    }
   ],
   "source": [
    "# Q12. Use Pandas to load a CSV file and display its first 5 rows.\n",
    "\n",
    "import pandas as pd\n",
    "\n",
    "try:\n",
    "    df = pd.read_csv(r\"C:\\Users\\bidis\\OneDrive\\Desktop\\my_file.csv\")\n",
    "    print(df.head())\n",
    "except FileNotFoundError:\n",
    "    print(f\"Error: '{file_name}' not found. Please provide the correct file path.\")\n",
    "except pd.errors.EmptyDataError:\n",
    "    print(f\"Error: '{file_name}' is empty.\")\n",
    "except pd.errors.ParserError:\n",
    "    print(f\"Error: Unable to parse '{file_name}'. Check file format.\")\n",
    "except Exception as e:\n",
    "    print(f\"An unexpected error occurred: {e}\")"
   ]
  },
  {
   "cell_type": "code",
   "execution_count": 12,
   "id": "706a2d17-656c-4c09-8a6e-5c36682f39b3",
   "metadata": {},
   "outputs": [
    {
     "data": {
      "application/vnd.plotly.v1+json": {
       "config": {
        "plotlyServerURL": "https://plot.ly"
       },
       "data": [
        {
         "mode": "markers",
         "type": "scatter3d",
         "x": {
          "bdata": "YMOaloLdqj+MhLKGqSvtPzZo5VDJb90//Gl/9M1h6D8XdoCzX9DuP1vaCKFPIe4/CKWYwfgvyD/RCrW/FazgP/4z87cOZOo/lvzUwiWv6j9MvxD/NnvkP3xUMmwKqts/IDyRPStxuj/Sx/4HJ6TZP2jfWpSklbM/eMCqwZYOxD/raB/6RdfpP6hn+1w8M9Q/ta9dHc7H7T+AJxLR7IjDP/APK3WaE8M/HJ7em6iB1j8sbtTZOK3YP5JPNO2s2tU/JxuuQUop5j8SiocL2pTgP4CgFPuy3Xo/ITR24xN+4T9WYEgsmlziP6qtOT46Ae0/Zlfyajdl3j9kYHPH48bWPxK3p4Y3HOY/4I1zSwZf0D/kuQXNLJjhP9zPeoQo/cQ/sPoEjvELyz+xEP51oe7rP5SZgcz42+4/xNbmYnLzxD/uB3fWN9XaP+DYWuJr89k/wL9ogUMC6j90J+vvlNPAP8yxX6THddA/th1UdLIH1T9s70mNbh3iPyTi0hrNnNw/nM2PeUOZ7T8KRYxnYPrvP+zdlyQGr9w/iJG+LZVF6j+0QHNQPf/XP2phpwo2ndM/3hoa5kUW5j8Q7hHvbd7aPyT5gfSjwNc/lqoVzPOW6D8w+E0fs8LjP0QvrVktn9g//YrdqRWU6T/fVNRKhWTkP/zJLuetkMA/J//6tL1T4D8ys9RjCufTP7TF7qr9lMI/p1Rp45ik4T/4qSoqMVLTP96E5/hQke4/MEpQh80GyD/ch4sIc3vRP4gBtpOK0dY/wl8AKY+/5j9orc3OlnayP+CKo+Lovsk/KnT3EWO97D9fxAhhfHHtPwoEuuLHFuU/ePYguUtyxj8gKPQZhROiP5j2geF7KLI/KAw7j0am6j9kL3xQ9ejLP7Xdqn/5teI/nDgC9Jon4z9ZvVPWQdrrP+7Iw6uA6tA/Mf58pFKC7z9jsjW09SvnP4A4NL6dtMw/6J/T7Gg93D87SAfIc6DmP1UgEVMVveA/2AiBJ53cuz/1eLucN/DkP93l218+0+Q/9AEHvPvE1T837J74iuzrP7C+FrqpoMk/rBRSpO3j6j8=",
          "dtype": "f8"
         },
         "y": {
          "bdata": "eVIODtjm5j96OONePgndPzAyiYCSbtY/+keFXuXl0z8WTzUJXfPlPyFmnLR3ROk/wF0PajHY4z8IxX6hOKzQP0kKln/oCuw/iV4wAztO5D8/5VCjbFfkP5TqnBkDz8o/sS8YYXkb4z8QpyGjui/PPzgP5tLqnNM/kmNh+ijt2j92prYpLdnnP9rwdDNNrd8/gNEtjP1clD9LwzckolvrP1ASMkEiKu4/0lZ3DFs96z8gmjfdeLqTPxaymuh+GN4/IHfbdqW90D/SbtJ8xdrXP2pCA0vRLto/kZx6TDER7D/F1cRFil/nP8lMizUrOek/pKhnbFimwD8SY0dXkHHgP0wcqBh27sI/Wo333bNF4z+cxRN8oJ/mPyf/qAfleuo/vLhENwk23j+kuIk050DlP2B3G05x6ZE/fNBc7TjL3j9QwL39FHfcP3jWVChjW8Y/4GOjWIiExD8ApABf3DrFPxY56i6ZCO0/+n/1CbiD5z/aCB8EDazhP/DK2LMjHd8/GGHl+wf1sD+uKpEpvynTP4gQj2Su5uA/sEASwpk3rT8ELCCn49bnP5hBev02mbY/yOhFsvXt5j+01OlFGP3VPw/079sIU+E/PtFcKp5k1D+QWTtShi7tPyC25PInJec/UPsWr+kP6j9BYIJt+UnnP/zCz09jvOQ/qC5fy/hlwz+eKmA082vnP53QEqL9gOM/bRLIsTJu6T9gNgwNklyYPyIET/1MKNk/UKw3bc2k2D+NYy/qpC7mP1GiJ0YDBOY/zhFW7qIB4T/yKgrzfjjVP6Yyp6O1TO8/iTE77j9F4D9cH6nM5Q/OPz6rf+7Vw+I/0K08mFNd3z/2NqZjkTXtP3BrsMM10uE/xBDNyqLh1T9aOLxrInHhP8A/ovlrUM4//SqEBt//7j88IQSmZq3SP0iqcMBwJrk/SP+W5GAl6T/Yxd1nDzrbP3hVJ89UPOY/gIsmdSqEeD+QJW+0fEfTP5gnOvh3F+U/mHP1aWVg7z+LXQDEY7rkP+b7T4G4R9E/LhM5bNya7j+RcADfOR3kP3wa0FF/P8A/VoRp9bKm2j8=",
          "dtype": "f8"
         },
         "z": {
          "bdata": "3CLlhnz64z8O15LA38zWP8395TfoPus/AKwnsRp0jj/6Dexayb/UPyydipWM084/VFTMnEd87T8C1qmUQx3rP7K2qB4KSOk/tuU6UuMw6T9eawmXnKvWP0i+Z+m0Htg/m9b6Le8b7j+4ZtxL+YTrP8JSsNlYMuI/AMuJPszttz///oeP9IvnP2DJ+n11rtk/ILgCcrAAtj8cfbAz92fZP49SFl6HMOc/6EDdO43ivT92RakX/DbfP4ALli8NpXc/EBob54GYrD9gxn+QxCntP+RWF7u+3t0/cqR+E1yn2T8E8kTl1D/KP/bAcmTLWNk/4OABTd/yoz/A7ldBeTq0P8rPCknsTtk//KOHU4am3z8CBMayhl/dP3SAhh1ucuo/THwFdGgJzD92hkWHu4LuP6Bk9nKAWa0/wvxjoKMu2T8L6FX9luvgP8SGdZEmFew/BBj2NuJ4yz+cSW3tparAP45Q8nHTjds/0OE/DbEc1D+Ymz7HlIixPwCCXmkrJdk/YWfeKZSL7z8UhILN61vnP4nKFluH1+c/AK9Uqswxvj+JBIPyYtznP16JJi/zVO0/4AD95RhtwT94mrnKFOC9P0pW5sH1+dk/w3ThuApk5z+mo/QmaS7SP5Att7ZC/dA/6DRXGdmRxj8DgkCm+WPvP2+ZxJOSde0/0CQQ+MJ1qj+wljpjE724P11Rr2C4m+M/fqAl+xok0T8su1IUeZLnP8yQE70I5cE/7MG4FQxC0z9G5DWe9ZHTP2/v+5zKYOo//D3FNOzO1z88oCcCVTfqP3i1S4qIdsQ/ecw3RxtB5T/UNyg4OP7dP0k3ji1lOu4/cQUJ0AfM4D+bVtk9pePrPzP26D0mbOM/b8G+qjFz5D+iHIVSww/pP6CHkrxdws4/AAgj8A/C4D9eunKpyanePxKu8cqaM9g/EG6JZ+bPsT/8UuHKpcLVP3S4W1mm0uY/lJ0VFj6exD8yZ5Sla4ThP4sVXL0Qdus/LpQef33U4z9Q0XD5OgXGP65bkzlvouI/MAapxmGutz+n2G7e2vvuP8A7XJ38BOw//HmODH3s2z8=",
          "dtype": "f8"
         }
        }
       ],
       "layout": {
        "scene": {
         "xaxis": {
          "title": {
           "text": "X-axis"
          }
         },
         "yaxis": {
          "title": {
           "text": "Y-axis"
          }
         },
         "zaxis": {
          "title": {
           "text": "Z-axis"
          }
         }
        },
        "template": {
         "data": {
          "bar": [
           {
            "error_x": {
             "color": "#2a3f5f"
            },
            "error_y": {
             "color": "#2a3f5f"
            },
            "marker": {
             "line": {
              "color": "#E5ECF6",
              "width": 0.5
             },
             "pattern": {
              "fillmode": "overlay",
              "size": 10,
              "solidity": 0.2
             }
            },
            "type": "bar"
           }
          ],
          "barpolar": [
           {
            "marker": {
             "line": {
              "color": "#E5ECF6",
              "width": 0.5
             },
             "pattern": {
              "fillmode": "overlay",
              "size": 10,
              "solidity": 0.2
             }
            },
            "type": "barpolar"
           }
          ],
          "carpet": [
           {
            "aaxis": {
             "endlinecolor": "#2a3f5f",
             "gridcolor": "white",
             "linecolor": "white",
             "minorgridcolor": "white",
             "startlinecolor": "#2a3f5f"
            },
            "baxis": {
             "endlinecolor": "#2a3f5f",
             "gridcolor": "white",
             "linecolor": "white",
             "minorgridcolor": "white",
             "startlinecolor": "#2a3f5f"
            },
            "type": "carpet"
           }
          ],
          "choropleth": [
           {
            "colorbar": {
             "outlinewidth": 0,
             "ticks": ""
            },
            "type": "choropleth"
           }
          ],
          "contour": [
           {
            "colorbar": {
             "outlinewidth": 0,
             "ticks": ""
            },
            "colorscale": [
             [
              0,
              "#0d0887"
             ],
             [
              0.1111111111111111,
              "#46039f"
             ],
             [
              0.2222222222222222,
              "#7201a8"
             ],
             [
              0.3333333333333333,
              "#9c179e"
             ],
             [
              0.4444444444444444,
              "#bd3786"
             ],
             [
              0.5555555555555556,
              "#d8576b"
             ],
             [
              0.6666666666666666,
              "#ed7953"
             ],
             [
              0.7777777777777778,
              "#fb9f3a"
             ],
             [
              0.8888888888888888,
              "#fdca26"
             ],
             [
              1,
              "#f0f921"
             ]
            ],
            "type": "contour"
           }
          ],
          "contourcarpet": [
           {
            "colorbar": {
             "outlinewidth": 0,
             "ticks": ""
            },
            "type": "contourcarpet"
           }
          ],
          "heatmap": [
           {
            "colorbar": {
             "outlinewidth": 0,
             "ticks": ""
            },
            "colorscale": [
             [
              0,
              "#0d0887"
             ],
             [
              0.1111111111111111,
              "#46039f"
             ],
             [
              0.2222222222222222,
              "#7201a8"
             ],
             [
              0.3333333333333333,
              "#9c179e"
             ],
             [
              0.4444444444444444,
              "#bd3786"
             ],
             [
              0.5555555555555556,
              "#d8576b"
             ],
             [
              0.6666666666666666,
              "#ed7953"
             ],
             [
              0.7777777777777778,
              "#fb9f3a"
             ],
             [
              0.8888888888888888,
              "#fdca26"
             ],
             [
              1,
              "#f0f921"
             ]
            ],
            "type": "heatmap"
           }
          ],
          "histogram": [
           {
            "marker": {
             "pattern": {
              "fillmode": "overlay",
              "size": 10,
              "solidity": 0.2
             }
            },
            "type": "histogram"
           }
          ],
          "histogram2d": [
           {
            "colorbar": {
             "outlinewidth": 0,
             "ticks": ""
            },
            "colorscale": [
             [
              0,
              "#0d0887"
             ],
             [
              0.1111111111111111,
              "#46039f"
             ],
             [
              0.2222222222222222,
              "#7201a8"
             ],
             [
              0.3333333333333333,
              "#9c179e"
             ],
             [
              0.4444444444444444,
              "#bd3786"
             ],
             [
              0.5555555555555556,
              "#d8576b"
             ],
             [
              0.6666666666666666,
              "#ed7953"
             ],
             [
              0.7777777777777778,
              "#fb9f3a"
             ],
             [
              0.8888888888888888,
              "#fdca26"
             ],
             [
              1,
              "#f0f921"
             ]
            ],
            "type": "histogram2d"
           }
          ],
          "histogram2dcontour": [
           {
            "colorbar": {
             "outlinewidth": 0,
             "ticks": ""
            },
            "colorscale": [
             [
              0,
              "#0d0887"
             ],
             [
              0.1111111111111111,
              "#46039f"
             ],
             [
              0.2222222222222222,
              "#7201a8"
             ],
             [
              0.3333333333333333,
              "#9c179e"
             ],
             [
              0.4444444444444444,
              "#bd3786"
             ],
             [
              0.5555555555555556,
              "#d8576b"
             ],
             [
              0.6666666666666666,
              "#ed7953"
             ],
             [
              0.7777777777777778,
              "#fb9f3a"
             ],
             [
              0.8888888888888888,
              "#fdca26"
             ],
             [
              1,
              "#f0f921"
             ]
            ],
            "type": "histogram2dcontour"
           }
          ],
          "mesh3d": [
           {
            "colorbar": {
             "outlinewidth": 0,
             "ticks": ""
            },
            "type": "mesh3d"
           }
          ],
          "parcoords": [
           {
            "line": {
             "colorbar": {
              "outlinewidth": 0,
              "ticks": ""
             }
            },
            "type": "parcoords"
           }
          ],
          "pie": [
           {
            "automargin": true,
            "type": "pie"
           }
          ],
          "scatter": [
           {
            "fillpattern": {
             "fillmode": "overlay",
             "size": 10,
             "solidity": 0.2
            },
            "type": "scatter"
           }
          ],
          "scatter3d": [
           {
            "line": {
             "colorbar": {
              "outlinewidth": 0,
              "ticks": ""
             }
            },
            "marker": {
             "colorbar": {
              "outlinewidth": 0,
              "ticks": ""
             }
            },
            "type": "scatter3d"
           }
          ],
          "scattercarpet": [
           {
            "marker": {
             "colorbar": {
              "outlinewidth": 0,
              "ticks": ""
             }
            },
            "type": "scattercarpet"
           }
          ],
          "scattergeo": [
           {
            "marker": {
             "colorbar": {
              "outlinewidth": 0,
              "ticks": ""
             }
            },
            "type": "scattergeo"
           }
          ],
          "scattergl": [
           {
            "marker": {
             "colorbar": {
              "outlinewidth": 0,
              "ticks": ""
             }
            },
            "type": "scattergl"
           }
          ],
          "scattermap": [
           {
            "marker": {
             "colorbar": {
              "outlinewidth": 0,
              "ticks": ""
             }
            },
            "type": "scattermap"
           }
          ],
          "scattermapbox": [
           {
            "marker": {
             "colorbar": {
              "outlinewidth": 0,
              "ticks": ""
             }
            },
            "type": "scattermapbox"
           }
          ],
          "scatterpolar": [
           {
            "marker": {
             "colorbar": {
              "outlinewidth": 0,
              "ticks": ""
             }
            },
            "type": "scatterpolar"
           }
          ],
          "scatterpolargl": [
           {
            "marker": {
             "colorbar": {
              "outlinewidth": 0,
              "ticks": ""
             }
            },
            "type": "scatterpolargl"
           }
          ],
          "scatterternary": [
           {
            "marker": {
             "colorbar": {
              "outlinewidth": 0,
              "ticks": ""
             }
            },
            "type": "scatterternary"
           }
          ],
          "surface": [
           {
            "colorbar": {
             "outlinewidth": 0,
             "ticks": ""
            },
            "colorscale": [
             [
              0,
              "#0d0887"
             ],
             [
              0.1111111111111111,
              "#46039f"
             ],
             [
              0.2222222222222222,
              "#7201a8"
             ],
             [
              0.3333333333333333,
              "#9c179e"
             ],
             [
              0.4444444444444444,
              "#bd3786"
             ],
             [
              0.5555555555555556,
              "#d8576b"
             ],
             [
              0.6666666666666666,
              "#ed7953"
             ],
             [
              0.7777777777777778,
              "#fb9f3a"
             ],
             [
              0.8888888888888888,
              "#fdca26"
             ],
             [
              1,
              "#f0f921"
             ]
            ],
            "type": "surface"
           }
          ],
          "table": [
           {
            "cells": {
             "fill": {
              "color": "#EBF0F8"
             },
             "line": {
              "color": "white"
             }
            },
            "header": {
             "fill": {
              "color": "#C8D4E3"
             },
             "line": {
              "color": "white"
             }
            },
            "type": "table"
           }
          ]
         },
         "layout": {
          "annotationdefaults": {
           "arrowcolor": "#2a3f5f",
           "arrowhead": 0,
           "arrowwidth": 1
          },
          "autotypenumbers": "strict",
          "coloraxis": {
           "colorbar": {
            "outlinewidth": 0,
            "ticks": ""
           }
          },
          "colorscale": {
           "diverging": [
            [
             0,
             "#8e0152"
            ],
            [
             0.1,
             "#c51b7d"
            ],
            [
             0.2,
             "#de77ae"
            ],
            [
             0.3,
             "#f1b6da"
            ],
            [
             0.4,
             "#fde0ef"
            ],
            [
             0.5,
             "#f7f7f7"
            ],
            [
             0.6,
             "#e6f5d0"
            ],
            [
             0.7,
             "#b8e186"
            ],
            [
             0.8,
             "#7fbc41"
            ],
            [
             0.9,
             "#4d9221"
            ],
            [
             1,
             "#276419"
            ]
           ],
           "sequential": [
            [
             0,
             "#0d0887"
            ],
            [
             0.1111111111111111,
             "#46039f"
            ],
            [
             0.2222222222222222,
             "#7201a8"
            ],
            [
             0.3333333333333333,
             "#9c179e"
            ],
            [
             0.4444444444444444,
             "#bd3786"
            ],
            [
             0.5555555555555556,
             "#d8576b"
            ],
            [
             0.6666666666666666,
             "#ed7953"
            ],
            [
             0.7777777777777778,
             "#fb9f3a"
            ],
            [
             0.8888888888888888,
             "#fdca26"
            ],
            [
             1,
             "#f0f921"
            ]
           ],
           "sequentialminus": [
            [
             0,
             "#0d0887"
            ],
            [
             0.1111111111111111,
             "#46039f"
            ],
            [
             0.2222222222222222,
             "#7201a8"
            ],
            [
             0.3333333333333333,
             "#9c179e"
            ],
            [
             0.4444444444444444,
             "#bd3786"
            ],
            [
             0.5555555555555556,
             "#d8576b"
            ],
            [
             0.6666666666666666,
             "#ed7953"
            ],
            [
             0.7777777777777778,
             "#fb9f3a"
            ],
            [
             0.8888888888888888,
             "#fdca26"
            ],
            [
             1,
             "#f0f921"
            ]
           ]
          },
          "colorway": [
           "#636efa",
           "#EF553B",
           "#00cc96",
           "#ab63fa",
           "#FFA15A",
           "#19d3f3",
           "#FF6692",
           "#B6E880",
           "#FF97FF",
           "#FECB52"
          ],
          "font": {
           "color": "#2a3f5f"
          },
          "geo": {
           "bgcolor": "white",
           "lakecolor": "white",
           "landcolor": "#E5ECF6",
           "showlakes": true,
           "showland": true,
           "subunitcolor": "white"
          },
          "hoverlabel": {
           "align": "left"
          },
          "hovermode": "closest",
          "mapbox": {
           "style": "light"
          },
          "paper_bgcolor": "white",
          "plot_bgcolor": "#E5ECF6",
          "polar": {
           "angularaxis": {
            "gridcolor": "white",
            "linecolor": "white",
            "ticks": ""
           },
           "bgcolor": "#E5ECF6",
           "radialaxis": {
            "gridcolor": "white",
            "linecolor": "white",
            "ticks": ""
           }
          },
          "scene": {
           "xaxis": {
            "backgroundcolor": "#E5ECF6",
            "gridcolor": "white",
            "gridwidth": 2,
            "linecolor": "white",
            "showbackground": true,
            "ticks": "",
            "zerolinecolor": "white"
           },
           "yaxis": {
            "backgroundcolor": "#E5ECF6",
            "gridcolor": "white",
            "gridwidth": 2,
            "linecolor": "white",
            "showbackground": true,
            "ticks": "",
            "zerolinecolor": "white"
           },
           "zaxis": {
            "backgroundcolor": "#E5ECF6",
            "gridcolor": "white",
            "gridwidth": 2,
            "linecolor": "white",
            "showbackground": true,
            "ticks": "",
            "zerolinecolor": "white"
           }
          },
          "shapedefaults": {
           "line": {
            "color": "#2a3f5f"
           }
          },
          "ternary": {
           "aaxis": {
            "gridcolor": "white",
            "linecolor": "white",
            "ticks": ""
           },
           "baxis": {
            "gridcolor": "white",
            "linecolor": "white",
            "ticks": ""
           },
           "bgcolor": "#E5ECF6",
           "caxis": {
            "gridcolor": "white",
            "linecolor": "white",
            "ticks": ""
           }
          },
          "title": {
           "x": 0.05
          },
          "xaxis": {
           "automargin": true,
           "gridcolor": "white",
           "linecolor": "white",
           "ticks": "",
           "title": {
            "standoff": 15
           },
           "zerolinecolor": "white",
           "zerolinewidth": 2
          },
          "yaxis": {
           "automargin": true,
           "gridcolor": "white",
           "linecolor": "white",
           "ticks": "",
           "title": {
            "standoff": 15
           },
           "zerolinecolor": "white",
           "zerolinewidth": 2
          }
         }
        },
        "title": {
         "text": "3D Scatter Plot using Plotly"
        }
       }
      },
      "image/png": "[encoded data removed]"
     },
     "metadata": {},
     "output_type": "display_data"
    }
   ],
   "source": [
    "#Q13. Create a 3D scatter plot using Plotly.\n",
    "\n",
    "import plotly.graph_objects as go\n",
    "import numpy as np\n",
    "\n",
    "x = np.random.rand(100)\n",
    "y = np.random.rand(100)\n",
    "z = np.random.rand(100)\n",
    "\n",
    "fig = go.Figure(data=[go.Scatter3d(x=x, y=y, z=z, mode='markers')])\n",
    "\n",
    "fig.update_layout(title='3D Scatter Plot using Plotly',\n",
    "                  scene=dict(xaxis_title='X-axis',\n",
    "                             yaxis_title='Y-axis',\n",
    "                             zaxis_title='Z-axis'))\n",
    "\n",
    "fig.show()"
   ]
  },
  {
   "cell_type": "code",
   "execution_count": null,
   "id": "288d893a-a06c-4e52-8701-5f9ba49b5d71",
   "metadata": {},
   "outputs": [],
   "source": []
  }
 ],
 "metadata": {
  "kernelspec": {
   "display_name": "Python 3 (ipykernel)",
   "language": "python",
   "name": "python3"
  },
  "language_info": {
   "codemirror_mode": {
    "name": "ipython",
    "version": 3
   },
   "file_extension": ".py",
   "mimetype": "text/x-python",
   "name": "python",
   "nbconvert_exporter": "python",
   "pygments_lexer": "ipython3",
   "version": "3.13.3"
  }
 },
 "nbformat": 4,
 "nbformat_minor": 5
}
