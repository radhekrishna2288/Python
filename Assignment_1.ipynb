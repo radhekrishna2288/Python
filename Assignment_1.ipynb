{
 "cells": [
  {
   "cell_type": "raw",
   "id": "5592117d-85dc-474b-a455-9784217b6126",
   "metadata": {},
   "source": [
    "1. What is python and why it is important?\n",
    "\n",
    "ans) Python is a programming language that is interpreted, object-oriented, and considered to be high-level. \n",
    "\n",
    "Python is a versatile and widely used programming language crucial for various applications, including web development, data science, machine learning, \n",
    "and automation, making it a valuable skill for both beginners and experienced professionals. Its readability, ease of use, and extensive libraries \n",
    "contribute to its popularity, making it a go-to choice for a diverse range of tasks."
   ]
  },
  {
   "cell_type": "raw",
   "id": "927bc825-cd48-4f1c-8315-7b030caf6d1f",
   "metadata": {},
   "source": [
    "2. What is an interpreter in Python?\n",
    "\n",
    "ans) In Python, an interpreter is a program that reads and executes Python code line by line. Unlike compilers, which translate the entire code into machine code beforehand, interpreters execute the code directly as it's being read, allowing for real-time results. "
   ]
  },
  {
   "cell_type": "raw",
   "id": "e9c7e601-bd08-4b9b-b714-ff8fbdb957ab",
   "metadata": {},
   "source": [
    "3. What are pre-defined keywords in Python?\n",
    "\n",
    "ans) Keywords are reserved words in Python that have special meanings and cannot be used as identifiers (variable names, function names, etc.). \n",
    "Examples of keywords include if, else, while, for, def, class, import, try, except, return, True, False, None, etc."
   ]
  },
  {
   "cell_type": "raw",
   "id": "4dde1148-25df-44fa-9f6e-5242721de936",
   "metadata": {},
   "source": [
    "4. Can keywords be used as variable names?\n",
    "\n",
    "ans) Keywords are reserved words in Python that have special meanings and cannot be used as variable names."
   ]
  },
  {
   "cell_type": "raw",
   "id": "aa3f2a0e-1d2c-46e8-8abc-3c35da6049c0",
   "metadata": {},
   "source": [
    "5. What is mutability in Python?\n",
    "\n",
    "ans) Mutability in Python refers to the ability of an object to be modified after it is created. If an object is mutable, its value can be changed without creating a new object. Mutable objects, such as lists and dictionaries, can be modified after creation."
   ]
  },
  {
   "cell_type": "raw",
   "id": "36b7594f-2880-49ba-8d71-bf034e196620",
   "metadata": {},
   "source": [
    "6. Why are lists mutable, but tuples are immutable?\n",
    "\n",
    "ans) Suppose we wrote a method that depends on a particular sequence of objects remaining the same throughout the lifetime of the code. If we store these objects in a list, there is a chance that some other method using the list will accidentally alter it and thus break our method. Thus, in a way, a tuple offers a guarantee that a particular collection of objects will remain fixed.\n",
    "\n",
    "Thus in python lists are mutable to offer modification when required whereas tuples are immutable to ensure that a code that is dependent on the sequence of objects does not run into error."
   ]
  },
  {
   "cell_type": "raw",
   "id": "886d8ae2-6003-49c7-a02a-037db7d1de9d",
   "metadata": {},
   "source": [
    "7. What is the difference between \"==\" and \"is\" operators in Python?\n",
    "\n",
    "ans) The difference between the == and is operators in Python lies in what they compare. The == operator compares the values of two objects for equality, while the is operator checks if two variables refer to the same object in memory (identity)."
   ]
  },
  {
   "cell_type": "raw",
   "id": "a198af29-f8ea-46a9-ad8a-4f81c75f2884",
   "metadata": {},
   "source": [
    "8. What are logical operators in Python?\n",
    "\n",
    "ans) Logical operators in Python are used to combine or modify boolean expressions (True or False). There are three logical operators: and, or, and not. They are fundamental for controlling program flow based on multiple conditions."
   ]
  },
  {
   "cell_type": "raw",
   "id": "468f393e-1777-4337-9792-718316b1cf7a",
   "metadata": {},
   "source": [
    "9. What is type casting in Python?\n",
    "\n",
    "ans) Type casting in Python, also known as type conversion, refers to the process of changing the data type of a variable from one type to another. This is often necessary to perform operations that require specific data types or to ensure compatibility between different parts of a program."
   ]
  },
  {
   "cell_type": "raw",
   "id": "a8674d65-3b11-4276-a801-c60e08049cf0",
   "metadata": {},
   "source": [
    "10. What is the difference between the implicit and explicit type casting?\n",
    "\n",
    "ans) In Explicit Type Casting, the programmer intentionally converts a variable from one data type to another using built-in functions. Examples of these functions include int(), float(), str(), and bool().\n",
    "\n",
    "Implicit Type Casting occurs when Python automatically converts a variable from one data type to another without explicit instruction from the programmer. This usually happens when performing operations between different data types."
   ]
  },
  {
   "cell_type": "raw",
   "id": "bc15ba47-b13f-4d4c-96da-1aa7f677fac9",
   "metadata": {},
   "source": [
    "11. What is the purpose of conditional statements in Python?\n",
    "\n",
    "ans) Conditionals in Python are used to execute code based on the evaluation of one or more conditions. Python supports conditional statements such as if, elif (else if), and else to control the flow of execution."
   ]
  },
  {
   "cell_type": "raw",
   "id": "8c742c54-fbd2-4ba9-8677-c54790469902",
   "metadata": {},
   "source": [
    "12. How does the elif statement work?\n",
    "\n",
    "ans) The “elif” keyword in Python, stands for “else if”. It can be used in conditional statements to check for multiple conditions. For example, if the first condition is false, it moves on to the next “elif” statement to check if that condition is true."
   ]
  },
  {
   "cell_type": "raw",
   "id": "41c04961-318c-4018-85a3-a05fc83d6b68",
   "metadata": {},
   "source": [
    "13. What is the difference between for and while loops?\n",
    "\n",
    "ans) The primary difference between for and while loops lies in when the number of iterations is known beforehand. for loops are best suited for situations where you know exactly how many times the loop will execute, often when iterating over a collection or sequence. while loops, on the other hand, are more flexible and used when the number of iterations is unknown and depends on a dynamic condition. "
   ]
  },
  {
   "cell_type": "raw",
   "id": "4317bf5c-c620-4913-98bd-7b8c0166b502",
   "metadata": {},
   "source": [
    "14. Describe a scenario where a while loop is more suitable than a for loop?\n",
    "\n",
    "ans) Imagine a situation where you are reading data from a file until you reach the end. You don't know how many lines the file contains, so you need a loop that keeps reading line by line until there are no more lines to read. In such a case, a \"While Loop\" is more appropriate because the number of iterations needed isn't known in advance—it depends on the file's content.\n",
    "\n",
    "Start by initializing a variable to track the number of iterations or the current state (e.g., iteration_count = 0).\n",
    "Set a condition flag (e.g., condition_met = False) that will eventually change when the task is complete (like reaching the end of a file).\n",
    "Use a \"While Loop\" where the loop continues as long as the condition (condition_met) is not satisfied.\n",
    "Within the loop, perform necessary operations, such as reading data or performing computations.\n",
    "After each operation, update the condition or the counter. For example, increase the iteration count by 1 (iteration_count += 1).\n",
    "If at any point the condition for stopping the loop is fulfilled, such as reaching the required number of iterations or detecting the end of data, change the condition flag to break out of the loop (condition_met = True)."
   ]
  },
  {
   "cell_type": "code",
   "execution_count": 2,
   "id": "509a146b-250d-4e88-a24b-e834d1c21711",
   "metadata": {},
   "outputs": [
    {
     "name": "stdout",
     "output_type": "stream",
     "text": [
      "Hello, World!\n"
     ]
    }
   ],
   "source": [
    "# Practical Questions\n",
    "\n",
    "#1. Write a Python program to print \"Hello, World!\".\n",
    "\n",
    "a = \"Hello, World!\"\n",
    "print(a)"
   ]
  },
  {
   "cell_type": "code",
   "execution_count": 10,
   "id": "ccf3c04c-e680-4927-ab00-012a03785445",
   "metadata": {},
   "outputs": [
    {
     "name": "stdout",
     "output_type": "stream",
     "text": [
      "Name - Shachin Sharma\n",
      "Age - 28\n"
     ]
    }
   ],
   "source": [
    "#2. Write a Python program that displays your name and age.\n",
    "\n",
    "Name = \"Shachin Sharma\"\n",
    "Age = \"28\"\n",
    "print(\"Name -\",Name)\n",
    "print(\"Age -\",Age)"
   ]
  },
  {
   "cell_type": "code",
   "execution_count": 12,
   "id": "6affa6c3-4324-4416-9c63-2044b5ecccc6",
   "metadata": {},
   "outputs": [
    {
     "name": "stdout",
     "output_type": "stream",
     "text": [
      "['False', 'None', 'True', 'and', 'as', 'assert', 'async', 'await', 'break', 'class', 'continue', 'def', 'del', 'elif', 'else', 'except', 'finally', 'for', 'from', 'global', 'if', 'import', 'in', 'is', 'lambda', 'nonlocal', 'not', 'or', 'pass', 'raise', 'return', 'try', 'while', 'with', 'yield']\n"
     ]
    }
   ],
   "source": [
    "#3. Write a code to print all the pre-defined keywords in Python using the keyword library.\n",
    "\n",
    "import keyword\n",
    "print(keyword.kwlist)"
   ]
  },
  {
   "cell_type": "code",
   "execution_count": 16,
   "id": "49cedde7-571a-4f67-9071-2b7ef9ed7179",
   "metadata": {},
   "outputs": [
    {
     "name": "stdout",
     "output_type": "stream",
     "text": [
      "'for' is a Python keyword.\n"
     ]
    }
   ],
   "source": [
    "#4. Write a program that checks if a given word is a Python keyword.\n",
    "\n",
    "s = 'for'\n",
    "if keyword.iskeyword(s):\n",
    "    print(f\"'{s}' is a Python keyword.\")\n",
    "else:\n",
    "    print(f\"'{s}' is not a Python keyword.\")"
   ]
  },
  {
   "cell_type": "code",
   "execution_count": 18,
   "id": "54bb3245-a325-413f-9817-bc15767dcf7b",
   "metadata": {},
   "outputs": [
    {
     "data": {
      "text/plain": [
       "[1, 2, 'Love', 'Ajay', 'World']"
      ]
     },
     "execution_count": 18,
     "metadata": {},
     "output_type": "execute_result"
    }
   ],
   "source": [
    "#5. Create a list and tuple in Python, and demonstrate how attempting to change an element works differently for each.\n",
    "\n",
    "#For list\n",
    "list_cont=[1,2,3,\"Ajay\",\"World\"]\n",
    "list_cont[2]=\"Love\"\n",
    "list_cont"
   ]
  },
  {
   "cell_type": "code",
   "execution_count": 20,
   "id": "b7d5d6db-f213-4ab7-b510-f715bcc3d947",
   "metadata": {},
   "outputs": [
    {
     "ename": "TypeError",
     "evalue": "'tuple' object does not support item assignment",
     "output_type": "error",
     "traceback": [
      "\u001b[31m---------------------------------------------------------------------------\u001b[39m",
      "\u001b[31mTypeError\u001b[39m                                 Traceback (most recent call last)",
      "\u001b[36mCell\u001b[39m\u001b[36m \u001b[39m\u001b[32mIn[20]\u001b[39m\u001b[32m, line 3\u001b[39m\n\u001b[32m      1\u001b[39m \u001b[38;5;66;03m#For tuple\u001b[39;00m\n\u001b[32m      2\u001b[39m tuple_cont=(\u001b[32m1\u001b[39m,\u001b[32m2\u001b[39m,\u001b[32m3\u001b[39m)\n\u001b[32m----> \u001b[39m\u001b[32m3\u001b[39m \u001b[43mtuple_cont\u001b[49m\u001b[43m[\u001b[49m\u001b[32;43m1\u001b[39;49m\u001b[43m]\u001b[49m=\u001b[32m4\u001b[39m\n",
      "\u001b[31mTypeError\u001b[39m: 'tuple' object does not support item assignment"
     ]
    }
   ],
   "source": [
    "#For tuple\n",
    "tuple_cont=(1,2,3)\n",
    "tuple_cont[1]=4"
   ]
  },
  {
   "cell_type": "code",
   "execution_count": 21,
   "id": "18464474-38c9-413f-a3f3-c07f17d66cb2",
   "metadata": {},
   "outputs": [
    {
     "data": {
      "text/plain": [
       "[1, 2, 'Love', 'Ajay', 'World']"
      ]
     },
     "execution_count": 21,
     "metadata": {},
     "output_type": "execute_result"
    }
   ],
   "source": [
    "#6. Write a function to demonstrate the behavior of mutable and immutable arguments.\n",
    "\n",
    "#mutable - List\n",
    "\n",
    "list_cont=[1,2,3,\"Ajay\",\"World\"]\n",
    "list_cont[2]=\"Love\"\n",
    "list_cont"
   ]
  },
  {
   "cell_type": "code",
   "execution_count": 22,
   "id": "2f38ff9c-de29-4876-8f0e-fdd981dfaf09",
   "metadata": {},
   "outputs": [
    {
     "ename": "TypeError",
     "evalue": "'str' object does not support item assignment",
     "output_type": "error",
     "traceback": [
      "\u001b[31m---------------------------------------------------------------------------\u001b[39m",
      "\u001b[31mTypeError\u001b[39m                                 Traceback (most recent call last)",
      "\u001b[36mCell\u001b[39m\u001b[36m \u001b[39m\u001b[32mIn[22]\u001b[39m\u001b[32m, line 4\u001b[39m\n\u001b[32m      1\u001b[39m \u001b[38;5;66;03m#Immutable\u001b[39;00m\n\u001b[32m      3\u001b[39m b=\u001b[33m\"\u001b[39m\u001b[33mShachin\u001b[39m\u001b[33m\"\u001b[39m\n\u001b[32m----> \u001b[39m\u001b[32m4\u001b[39m \u001b[43mb\u001b[49m\u001b[43m[\u001b[49m\u001b[32;43m1\u001b[39;49m\u001b[43m]\u001b[49m=\u001b[33m\"\u001b[39m\u001b[33mc\u001b[39m\u001b[33m\"\u001b[39m\n",
      "\u001b[31mTypeError\u001b[39m: 'str' object does not support item assignment"
     ]
    }
   ],
   "source": [
    "#Immutable - String\n",
    "\n",
    "b=\"Shachin\"\n",
    "b[1]=\"c\""
   ]
  },
  {
   "cell_type": "code",
   "execution_count": 38,
   "id": "f20ebae3-d473-411b-af51-14d063e82d59",
   "metadata": {},
   "outputs": [
    {
     "name": "stdin",
     "output_type": "stream",
     "text": [
      "Enter the first number:  6\n",
      "Enter the second number:  5\n"
     ]
    },
    {
     "name": "stdout",
     "output_type": "stream",
     "text": [
      "Addition: 11.0\n",
      "Subtraction: 1.0\n",
      "Multiplication: 30.0\n",
      "Division: 1.2\n"
     ]
    }
   ],
   "source": [
    "#7. Write a program that performs basic arithmetic operations on two user-input numbers.\n",
    "\n",
    "num1 = float(input(\"Enter the first number: \"))\n",
    "num2 = float(input(\"Enter the second number: \"))\n",
    "\n",
    "print(\"Addition:\", num1 + num2)\n",
    "print(\"Subtraction:\", num1 - num2)\n",
    "print(\"Multiplication:\", num1 * num2)\n",
    "print(\"Division:\", num1 / num2)"
   ]
  },
  {
   "cell_type": "code",
   "execution_count": 40,
   "id": "ec235746-9141-4e79-827a-ee21193b00fb",
   "metadata": {},
   "outputs": [
    {
     "name": "stdout",
     "output_type": "stream",
     "text": [
      "Both a and c are True.\n",
      "Either b or c is True.\n",
      "b is False.\n"
     ]
    }
   ],
   "source": [
    "#8. Write a program to demonstrate the use of logical operators.\n",
    "\n",
    "a, b, c = True, False, True\n",
    "\n",
    "if a and c:\n",
    "    print(\"Both a and c are True.\")\n",
    "\n",
    "if b or c:\n",
    "    print(\"Either b or c is True.\")\n",
    "\n",
    "if not b:\n",
    "    print(\"b is False.\")"
   ]
  },
  {
   "cell_type": "code",
   "execution_count": 43,
   "id": "8591d544-b99d-42ee-a693-0c9a72aaa3a7",
   "metadata": {},
   "outputs": [
    {
     "name": "stdin",
     "output_type": "stream",
     "text": [
      "Please enter the required number 4\n"
     ]
    },
    {
     "name": "stdout",
     "output_type": "stream",
     "text": [
      "4\n",
      "4.0\n",
      "True\n"
     ]
    }
   ],
   "source": [
    "#9. Write a Python program to convert user input from string to integer, float, and boolean types.\n",
    "\n",
    "User_1=input(\"Please enter the required number\")\n",
    "print(int(User_1))\n",
    "print(float(User_1))\n",
    "print(bool(User_1))"
   ]
  },
  {
   "cell_type": "code",
   "execution_count": 47,
   "id": "1acac017-477f-4208-85bb-db01859f1b71",
   "metadata": {},
   "outputs": [
    {
     "name": "stdout",
     "output_type": "stream",
     "text": [
      "List with integer type casting: [1, 2, 3, 4, 1]\n",
      "List with float type casting: [1.0, 2.0, 3.0, 4.0, 1.0]\n",
      "List with string type casting: ['1', '2', '3', '4', 'True']\n",
      "List with boolean type casting: [True, True, True, True, True]\n"
     ]
    }
   ],
   "source": [
    "#10. Write a code to demonstrate type casting with list elements.\n",
    "\n",
    "list_con = [1,2,3,\"4\",True]\n",
    "\n",
    "int_list = [int(x) for x in list_con]\n",
    "print(\"List with integer type casting:\", int_list)\n",
    "\n",
    "# Type casting each element to float\n",
    "float_list = [float(x) for x in list_con]\n",
    "print(\"List with float type casting:\", float_list)\n",
    "\n",
    "# Type casting each element to string\n",
    "str_list = [str(x) for x in list_con]\n",
    "print(\"List with string type casting:\", str_list)\n",
    "\n",
    "# Type casting each element to boolean\n",
    "bool_list = [bool(x) for x in list_con]\n",
    "print(\"List with boolean type casting:\", bool_list)"
   ]
  },
  {
   "cell_type": "code",
   "execution_count": 50,
   "id": "3aaa0675-aa46-49a2-ac28-8fd42a3f7da6",
   "metadata": {},
   "outputs": [
    {
     "name": "stdin",
     "output_type": "stream",
     "text": [
      "Enter a number 6\n"
     ]
    },
    {
     "name": "stdout",
     "output_type": "stream",
     "text": [
      "Positive\n"
     ]
    }
   ],
   "source": [
    "#11. Write a program that checks if a number is positive, negative, or zero.\n",
    "\n",
    "num_2=int(input(\"Enter a number\"))\n",
    "\n",
    "if num_2>0:\n",
    "    print(\"Positive\")\n",
    "elif num_2<0:\n",
    "    print(\"Negative\")\n",
    "else:\n",
    "    print(\"Zero\")\n"
   ]
  },
  {
   "cell_type": "code",
   "execution_count": 53,
   "id": "5b2cef10-df50-4517-a5de-ff4c2e09fe1a",
   "metadata": {},
   "outputs": [
    {
     "name": "stdout",
     "output_type": "stream",
     "text": [
      "1\n",
      "2\n",
      "3\n",
      "4\n",
      "5\n",
      "6\n",
      "7\n",
      "8\n",
      "9\n",
      "10\n"
     ]
    }
   ],
   "source": [
    "#12. Write a for loop to print numbers from 1 to 10.\n",
    "\n",
    "for y in range(1,11):\n",
    "    print(y)"
   ]
  },
  {
   "cell_type": "code",
   "execution_count": 60,
   "id": "20b2073c-b1aa-4d4e-9e1f-a9fcd732aedf",
   "metadata": {},
   "outputs": [
    {
     "name": "stdout",
     "output_type": "stream",
     "text": [
      "650\n"
     ]
    }
   ],
   "source": [
    "#13. Write a Python program to find the sum of all even numbers between 1 and 50.\n",
    "\n",
    "sum_even = 0\n",
    "for num in range(2, 51, 2):\n",
    "    sum_even += num\n",
    "print(sum_even)"
   ]
  },
  {
   "cell_type": "code",
   "execution_count": 61,
   "id": "8d9c4729-83a8-4285-b994-8866cf9c5e38",
   "metadata": {},
   "outputs": [
    {
     "name": "stdout",
     "output_type": "stream",
     "text": [
      "Reverse String using while loop = !IVUG htiw egaugnal evitan ruoy ni nraeL\n"
     ]
    }
   ],
   "source": [
    "#14. Write a program to reverse a string using a while loop.\n",
    "\n",
    "def reverse_while_loop(s):\n",
    "    s1 = ''\n",
    "    length = len(s) - 1\n",
    "    while length >= 0:\n",
    "        s1 += s[length]\n",
    "        length -= 1\n",
    "    return s1\n",
    "\n",
    "input_str = 'Learn in your native language with GUVI!'\n",
    "print('Reverse String using while loop =', reverse_while_loop(input_str))"
   ]
  },
  {
   "cell_type": "code",
   "execution_count": 70,
   "id": "ca9fd7e1-f746-4c33-aae2-7499ffccc7e3",
   "metadata": {},
   "outputs": [
    {
     "name": "stdin",
     "output_type": "stream",
     "text": [
      "enter the number 4\n"
     ]
    },
    {
     "name": "stdout",
     "output_type": "stream",
     "text": [
      "24.0\n"
     ]
    }
   ],
   "source": [
    "#15. Write a Python program to calculate the factorial of a number provided by the user using a while loop.\n",
    "\n",
    "def factorial(n):\n",
    "    num = 1\n",
    "    while n >= 1:\n",
    "        num = num * n\n",
    "        n = n - 1\n",
    "    return num\n",
    "f = factorial(float(input(\"enter the number\")))\n",
    "print(f)"
   ]
  }
 ],
 "metadata": {
  "kernelspec": {
   "display_name": "Python 3 (ipykernel)",
   "language": "python",
   "name": "python3"
  },
  "language_info": {
   "codemirror_mode": {
    "name": "ipython",
    "version": 3
   },
   "file_extension": ".py",
   "mimetype": "text/x-python",
   "name": "python",
   "nbconvert_exporter": "python",
   "pygments_lexer": "ipython3",
   "version": "3.13.3"
  }
 },
 "nbformat": 4,
 "nbformat_minor": 5
}
